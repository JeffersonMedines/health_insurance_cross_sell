{
 "cells": [
  {
   "cell_type": "markdown",
   "id": "e1557e0d",
   "metadata": {},
   "source": [
    "# 0.0 IMPORTS"
   ]
  },
  {
   "cell_type": "code",
   "execution_count": 88,
   "id": "65566d39",
   "metadata": {
    "ExecuteTime": {
     "end_time": "2022-11-07T22:23:41.579998Z",
     "start_time": "2022-11-07T22:23:41.576165Z"
    }
   },
   "outputs": [],
   "source": [
    "import pandas as pd\n",
    "import numpy as np\n",
    "import seaborn as sns\n",
    "import scikitplot as skplt\n",
    "\n",
    "from matplotlib import pyplot as plt\n",
    "import matplotlib.patches as mpatches\n",
    "from tabulate import tabulate\n",
    "\n",
    "from sklearn import preprocessing as pp\n",
    "from sklearn import model_selection as ms\n",
    "from sklearn import ensemble as en\n",
    "from sklearn import neighbors as nh\n",
    "from sklearn import linear_model as lm"
   ]
  },
  {
   "cell_type": "markdown",
   "id": "d0ef244d",
   "metadata": {},
   "source": [
    "## 0.1 Helper Functions"
   ]
  },
  {
   "cell_type": "code",
   "execution_count": 2,
   "id": "0a8413a1",
   "metadata": {
    "ExecuteTime": {
     "end_time": "2022-11-07T18:41:53.310894Z",
     "start_time": "2022-11-07T18:41:53.283283Z"
    }
   },
   "outputs": [
    {
     "name": "stdout",
     "output_type": "stream",
     "text": [
      "%pylab is deprecated, use %matplotlib inline and import the required libraries.\n",
      "Populating the interactive namespace from numpy and matplotlib\n"
     ]
    }
   ],
   "source": [
    "def jupyter_settings():\n",
    "    %matplotlib inline\n",
    "    %pylab inline\n",
    "    plt.style.use( 'bmh' )\n",
    "    plt.rcParams['figure.figsize'] = [20, 15]\n",
    "    plt.rcParams['font.size'] = 30\n",
    "    \n",
    "    pd.options.display.max_columns = None\n",
    "    pd.options.display.max_rows = None\n",
    "    pd.set_option( 'display.expand_frame_repr', False )\n",
    "    \n",
    "    sns.set()\n",
    "    \n",
    "jupyter_settings()"
   ]
  },
  {
   "cell_type": "markdown",
   "id": "161cf755",
   "metadata": {
    "heading_collapsed": true
   },
   "source": [
    "## 0.2 Load Data"
   ]
  },
  {
   "cell_type": "code",
   "execution_count": 3,
   "id": "51e548a3",
   "metadata": {
    "ExecuteTime": {
     "end_time": "2022-11-07T18:41:53.738227Z",
     "start_time": "2022-11-07T18:41:53.313646Z"
    },
    "hidden": true
   },
   "outputs": [],
   "source": [
    "df_raw = pd.read_csv( '/home/jeffsmedines/repos/pa4/health_insurance_cross_sell/data/raw/train.csv' )"
   ]
  },
  {
   "cell_type": "code",
   "execution_count": 4,
   "id": "d6e74fd8",
   "metadata": {
    "ExecuteTime": {
     "end_time": "2022-11-07T18:41:53.804526Z",
     "start_time": "2022-11-07T18:41:53.741465Z"
    },
    "hidden": true
   },
   "outputs": [
    {
     "data": {
      "text/plain": [
       "'/home/jeffsmedines/repos/pa4/health_insurance_cross_sell/notebooks'"
      ]
     },
     "execution_count": 4,
     "metadata": {},
     "output_type": "execute_result"
    }
   ],
   "source": [
    "pwd"
   ]
  },
  {
   "cell_type": "markdown",
   "id": "90061d6f",
   "metadata": {
    "heading_collapsed": true
   },
   "source": [
    "# 1.0 STEP 01 - DATA DESCRIPTION"
   ]
  },
  {
   "cell_type": "code",
   "execution_count": 5,
   "id": "79d92c44",
   "metadata": {
    "ExecuteTime": {
     "end_time": "2022-11-07T18:41:53.818342Z",
     "start_time": "2022-11-07T18:41:53.807806Z"
    },
    "hidden": true
   },
   "outputs": [],
   "source": [
    "df1 = df_raw.copy()"
   ]
  },
  {
   "cell_type": "markdown",
   "id": "294ddaa3",
   "metadata": {
    "heading_collapsed": true,
    "hidden": true,
    "hide_input": true
   },
   "source": [
    "## 1.1 Columns Description"
   ]
  },
  {
   "cell_type": "code",
   "execution_count": 6,
   "id": "c173a5c6",
   "metadata": {
    "ExecuteTime": {
     "end_time": "2022-11-07T18:41:53.827445Z",
     "start_time": "2022-11-07T18:41:53.820989Z"
    },
    "hidden": true,
    "hide_input": true
   },
   "outputs": [
    {
     "name": "stdout",
     "output_type": "stream",
     "text": [
      "=====================  =========================================================================================================================\n",
      "Column                 Meaning\n",
      "=====================  =========================================================================================================================\n",
      "id                     unique customer identifier.\n",
      "gender                 client gender: Male / Female.\n",
      "age                    customer age.\n",
      "region_code            customer region code.\n",
      "policy_sales_channel   Anonymized Code for the channel of outreaching to the customer. Ie: Over Mail, Over Phone, In Person, etc..\n",
      "driving_license        0 = customer does not have DL, 1 = already have DL\n",
      "vehicle_age            vehicle age: < 1 Year, 1-2 Year, > 2 Years\n",
      "vehicle_damage         No = customer has never had their vehicle damaged in the past, Yes = has had it.\n",
      "vehicle_prev_insured   0 = customer does not have vehicle insurance, 1= already has vehicle insurance.\n",
      "health_annual_premium  annual amount paid by the customer to the company for health insurance. Currency: Rs(Pakistani rupee, R$1.00 = ± Rs0.03).\n",
      "days_associated        number of days since the customer joined the company by purchasing health insurance. The policy is annual.\n",
      "response               0 = customer is not interested, 1 = customer is interested.\n",
      "=====================  =========================================================================================================================\n"
     ]
    }
   ],
   "source": [
    "tab_meanings = [['Column', 'Meaning'],\n",
    "        ['id', 'unique customer identifier.'],\n",
    "        ['gender', 'client gender: Male / Female.'],\n",
    "        ['age', 'customer age.'],\n",
    "        ['region_code', 'customer region code.'],\n",
    "        ['policy_sales_channel', 'Anonymized Code for the channel of outreaching to the customer. Ie: Over Mail, Over Phone, In Person, etc..'],\n",
    "        ['driving_license', '0 = customer does not have DL, 1 = already have DL'],\n",
    "        ['vehicle_age', 'vehicle age: < 1 Year, 1-2 Year, > 2 Years'],\n",
    "        ['vehicle_damage', 'No = customer has never had their vehicle damaged in the past, Yes = has had it.'],\n",
    "        ['vehicle_prev_insured', '0 = customer does not have vehicle insurance, 1= already has vehicle insurance.'],\n",
    "        ['health_annual_premium', 'annual amount paid by the customer to the company for health insurance. Currency: Rs(Pakistani rupee, R$1.00 = ± Rs0.03).'],\n",
    "        ['days_associated', 'number of days since the customer joined the company by purchasing health insurance. The policy is annual.'],\n",
    "        ['response', '0 = customer is not interested, 1 = customer is interested.']\n",
    "      ]\n",
    "print(tabulate(tab_meanings, headers='firstrow', stralign='left', tablefmt='rst'))"
   ]
  },
  {
   "cell_type": "markdown",
   "id": "2189fbbd",
   "metadata": {
    "heading_collapsed": true,
    "hidden": true
   },
   "source": [
    "### 1.1.1 Columns Exemple"
   ]
  },
  {
   "cell_type": "code",
   "execution_count": 7,
   "id": "c0bacec4",
   "metadata": {
    "ExecuteTime": {
     "end_time": "2022-11-07T18:41:53.850105Z",
     "start_time": "2022-11-07T18:41:53.830222Z"
    },
    "hidden": true
   },
   "outputs": [
    {
     "data": {
      "text/html": [
       "<div>\n",
       "<style scoped>\n",
       "    .dataframe tbody tr th:only-of-type {\n",
       "        vertical-align: middle;\n",
       "    }\n",
       "\n",
       "    .dataframe tbody tr th {\n",
       "        vertical-align: top;\n",
       "    }\n",
       "\n",
       "    .dataframe thead th {\n",
       "        text-align: right;\n",
       "    }\n",
       "</style>\n",
       "<table border=\"1\" class=\"dataframe\">\n",
       "  <thead>\n",
       "    <tr style=\"text-align: right;\">\n",
       "      <th></th>\n",
       "      <th>id</th>\n",
       "      <th>previously_insured</th>\n",
       "      <th>annual_premium</th>\n",
       "      <th>vintage</th>\n",
       "      <th>response</th>\n",
       "      <th>id.1</th>\n",
       "      <th>gender</th>\n",
       "      <th>age</th>\n",
       "      <th>region_code</th>\n",
       "      <th>policy_sales_channel</th>\n",
       "      <th>id.2</th>\n",
       "      <th>driving_license</th>\n",
       "      <th>vehicle_age</th>\n",
       "      <th>vehicle_damage</th>\n",
       "    </tr>\n",
       "  </thead>\n",
       "  <tbody>\n",
       "    <tr>\n",
       "      <th>0</th>\n",
       "      <td>7</td>\n",
       "      <td>0</td>\n",
       "      <td>23367.0</td>\n",
       "      <td>249</td>\n",
       "      <td>0</td>\n",
       "      <td>7</td>\n",
       "      <td>Male</td>\n",
       "      <td>23</td>\n",
       "      <td>11.0</td>\n",
       "      <td>152.0</td>\n",
       "      <td>7</td>\n",
       "      <td>1</td>\n",
       "      <td>&lt; 1 Year</td>\n",
       "      <td>Yes</td>\n",
       "    </tr>\n",
       "    <tr>\n",
       "      <th>1</th>\n",
       "      <td>13</td>\n",
       "      <td>1</td>\n",
       "      <td>31409.0</td>\n",
       "      <td>221</td>\n",
       "      <td>0</td>\n",
       "      <td>13</td>\n",
       "      <td>Female</td>\n",
       "      <td>41</td>\n",
       "      <td>15.0</td>\n",
       "      <td>14.0</td>\n",
       "      <td>13</td>\n",
       "      <td>1</td>\n",
       "      <td>1-2 Year</td>\n",
       "      <td>No</td>\n",
       "    </tr>\n",
       "    <tr>\n",
       "      <th>2</th>\n",
       "      <td>18</td>\n",
       "      <td>1</td>\n",
       "      <td>46622.0</td>\n",
       "      <td>299</td>\n",
       "      <td>0</td>\n",
       "      <td>18</td>\n",
       "      <td>Female</td>\n",
       "      <td>25</td>\n",
       "      <td>35.0</td>\n",
       "      <td>152.0</td>\n",
       "      <td>18</td>\n",
       "      <td>1</td>\n",
       "      <td>&lt; 1 Year</td>\n",
       "      <td>No</td>\n",
       "    </tr>\n",
       "    <tr>\n",
       "      <th>3</th>\n",
       "      <td>31</td>\n",
       "      <td>0</td>\n",
       "      <td>2630.0</td>\n",
       "      <td>136</td>\n",
       "      <td>0</td>\n",
       "      <td>31</td>\n",
       "      <td>Female</td>\n",
       "      <td>26</td>\n",
       "      <td>8.0</td>\n",
       "      <td>160.0</td>\n",
       "      <td>31</td>\n",
       "      <td>1</td>\n",
       "      <td>&lt; 1 Year</td>\n",
       "      <td>No</td>\n",
       "    </tr>\n",
       "    <tr>\n",
       "      <th>4</th>\n",
       "      <td>39</td>\n",
       "      <td>0</td>\n",
       "      <td>42297.0</td>\n",
       "      <td>264</td>\n",
       "      <td>0</td>\n",
       "      <td>39</td>\n",
       "      <td>Male</td>\n",
       "      <td>45</td>\n",
       "      <td>8.0</td>\n",
       "      <td>124.0</td>\n",
       "      <td>39</td>\n",
       "      <td>1</td>\n",
       "      <td>1-2 Year</td>\n",
       "      <td>Yes</td>\n",
       "    </tr>\n",
       "  </tbody>\n",
       "</table>\n",
       "</div>"
      ],
      "text/plain": [
       "   id  previously_insured  annual_premium  vintage  response  id.1  gender  age  region_code  policy_sales_channel  id.2  driving_license vehicle_age vehicle_damage\n",
       "0   7                   0         23367.0      249         0     7    Male   23         11.0                 152.0     7                1    < 1 Year            Yes\n",
       "1  13                   1         31409.0      221         0    13  Female   41         15.0                  14.0    13                1    1-2 Year             No\n",
       "2  18                   1         46622.0      299         0    18  Female   25         35.0                 152.0    18                1    < 1 Year             No\n",
       "3  31                   0          2630.0      136         0    31  Female   26          8.0                 160.0    31                1    < 1 Year             No\n",
       "4  39                   0         42297.0      264         0    39    Male   45          8.0                 124.0    39                1    1-2 Year            Yes"
      ]
     },
     "execution_count": 7,
     "metadata": {},
     "output_type": "execute_result"
    }
   ],
   "source": [
    "df1.head()"
   ]
  },
  {
   "cell_type": "markdown",
   "id": "cc2b0546",
   "metadata": {
    "heading_collapsed": true,
    "hidden": true
   },
   "source": [
    "## 1.2 Data Dimensions"
   ]
  },
  {
   "cell_type": "code",
   "execution_count": 8,
   "id": "fb261947",
   "metadata": {
    "ExecuteTime": {
     "end_time": "2022-11-07T18:41:53.857504Z",
     "start_time": "2022-11-07T18:41:53.852769Z"
    },
    "hidden": true
   },
   "outputs": [
    {
     "name": "stdout",
     "output_type": "stream",
     "text": [
      "Number of Rows: 381109\n",
      "Number of Cols: 14\n"
     ]
    }
   ],
   "source": [
    "print( f'Number of Rows: {df1.shape[0]}' )\n",
    "print( f'Number of Cols: {df1.shape[1]}' )"
   ]
  },
  {
   "cell_type": "markdown",
   "id": "aa276b86",
   "metadata": {
    "heading_collapsed": true,
    "hidden": true
   },
   "source": [
    "## 1.3 Data Types"
   ]
  },
  {
   "cell_type": "code",
   "execution_count": 9,
   "id": "138a351f",
   "metadata": {
    "ExecuteTime": {
     "end_time": "2022-11-07T18:41:53.871356Z",
     "start_time": "2022-11-07T18:41:53.860151Z"
    },
    "hidden": true
   },
   "outputs": [
    {
     "data": {
      "text/plain": [
       "id                        int64\n",
       "previously_insured        int64\n",
       "annual_premium          float64\n",
       "vintage                   int64\n",
       "response                  int64\n",
       "id.1                      int64\n",
       "gender                   object\n",
       "age                       int64\n",
       "region_code             float64\n",
       "policy_sales_channel    float64\n",
       "id.2                      int64\n",
       "driving_license           int64\n",
       "vehicle_age              object\n",
       "vehicle_damage           object\n",
       "dtype: object"
      ]
     },
     "execution_count": 9,
     "metadata": {},
     "output_type": "execute_result"
    }
   ],
   "source": [
    "df1.dtypes"
   ]
  },
  {
   "cell_type": "markdown",
   "id": "ba08d4f4",
   "metadata": {
    "heading_collapsed": true,
    "hidden": true
   },
   "source": [
    "## 1.4 Check NA's"
   ]
  },
  {
   "cell_type": "code",
   "execution_count": 10,
   "id": "1105babc",
   "metadata": {
    "ExecuteTime": {
     "end_time": "2022-11-07T18:41:54.021476Z",
     "start_time": "2022-11-07T18:41:53.874798Z"
    },
    "hidden": true
   },
   "outputs": [
    {
     "data": {
      "text/plain": [
       "id                      0\n",
       "previously_insured      0\n",
       "annual_premium          0\n",
       "vintage                 0\n",
       "response                0\n",
       "id.1                    0\n",
       "gender                  0\n",
       "age                     0\n",
       "region_code             0\n",
       "policy_sales_channel    0\n",
       "id.2                    0\n",
       "driving_license         0\n",
       "vehicle_age             0\n",
       "vehicle_damage          0\n",
       "dtype: int64"
      ]
     },
     "execution_count": 10,
     "metadata": {},
     "output_type": "execute_result"
    }
   ],
   "source": [
    "df1.isna().sum()"
   ]
  },
  {
   "cell_type": "markdown",
   "id": "725ade74",
   "metadata": {
    "heading_collapsed": true,
    "hidden": true
   },
   "source": [
    "## 1.5 Fill NA's"
   ]
  },
  {
   "cell_type": "code",
   "execution_count": 11,
   "id": "949589db",
   "metadata": {
    "ExecuteTime": {
     "end_time": "2022-11-07T18:41:54.026487Z",
     "start_time": "2022-11-07T18:41:54.023758Z"
    },
    "hidden": true
   },
   "outputs": [],
   "source": [
    "# Not Necessary"
   ]
  },
  {
   "cell_type": "markdown",
   "id": "b345ac59",
   "metadata": {
    "heading_collapsed": true,
    "hidden": true
   },
   "source": [
    "## 1.6 Change Types"
   ]
  },
  {
   "cell_type": "code",
   "execution_count": 12,
   "id": "a57da6e7",
   "metadata": {
    "ExecuteTime": {
     "end_time": "2022-11-07T18:41:54.046128Z",
     "start_time": "2022-11-07T18:41:54.028735Z"
    },
    "hidden": true
   },
   "outputs": [],
   "source": [
    "df1['region_code'] = df1['region_code'].astype( int )"
   ]
  },
  {
   "cell_type": "code",
   "execution_count": 13,
   "id": "c14f253e",
   "metadata": {
    "ExecuteTime": {
     "end_time": "2022-11-07T18:41:54.057049Z",
     "start_time": "2022-11-07T18:41:54.048653Z"
    },
    "hidden": true
   },
   "outputs": [
    {
     "data": {
      "text/plain": [
       "dtype('int64')"
      ]
     },
     "execution_count": 13,
     "metadata": {},
     "output_type": "execute_result"
    }
   ],
   "source": [
    "# Check Change\n",
    "df1['region_code'].dtypes"
   ]
  },
  {
   "cell_type": "markdown",
   "id": "4e0a6acd",
   "metadata": {
    "heading_collapsed": true,
    "hidden": true
   },
   "source": [
    "## 1.7 Drop Columns"
   ]
  },
  {
   "cell_type": "code",
   "execution_count": 14,
   "id": "69aa8c72",
   "metadata": {
    "ExecuteTime": {
     "end_time": "2022-11-07T18:41:54.102860Z",
     "start_time": "2022-11-07T18:41:54.058877Z"
    },
    "hidden": true
   },
   "outputs": [],
   "source": [
    "df1 = df1.drop( columns=['id.1', 'id.2'] )"
   ]
  },
  {
   "cell_type": "markdown",
   "id": "c5b3112a",
   "metadata": {
    "heading_collapsed": true,
    "hidden": true
   },
   "source": [
    "## 1.8 Descriptive Statistics"
   ]
  },
  {
   "cell_type": "code",
   "execution_count": 15,
   "id": "183df9dc",
   "metadata": {
    "ExecuteTime": {
     "end_time": "2022-11-07T18:41:54.108684Z",
     "start_time": "2022-11-07T18:41:54.104863Z"
    },
    "hidden": true
   },
   "outputs": [],
   "source": [
    "num_attributes = df1.select_dtypes( include=['int64', np.float64] )\n",
    "cat_attributes = df1.select_dtypes( exclude=['int64', np.float64] )"
   ]
  },
  {
   "cell_type": "markdown",
   "id": "41309ff1",
   "metadata": {
    "heading_collapsed": true,
    "hidden": true
   },
   "source": [
    "### 1.8.1 Numerical Attributes"
   ]
  },
  {
   "cell_type": "code",
   "execution_count": 16,
   "id": "a1673c6e",
   "metadata": {
    "ExecuteTime": {
     "end_time": "2022-11-07T18:41:54.745100Z",
     "start_time": "2022-11-07T18:41:54.110436Z"
    },
    "hidden": true
   },
   "outputs": [],
   "source": [
    "# Central Tendency - Mean, Median\n",
    "ct1 = pd.DataFrame( num_attributes.apply( np.mean ) ).T\n",
    "ct2 = pd.DataFrame( num_attributes.apply( np.median ) ).T\n",
    "\n",
    "# Dispersion - Std, min, max, range, skewness, kurtosis\n",
    "d1 = pd.DataFrame( num_attributes.apply( np.std ) ).T\n",
    "d2 = pd.DataFrame( num_attributes.apply( min ) ).T\n",
    "d3 = pd.DataFrame( num_attributes.apply( max ) ).T\n",
    "d4 = pd.DataFrame( num_attributes.apply( lambda x: x.max() - x.min() ) ).T\n",
    "d5 = pd.DataFrame( num_attributes.apply( lambda x: x.skew() ) ).T\n",
    "d6 = pd.DataFrame( num_attributes.apply( lambda x: x.kurtosis() ) ).T\n",
    "\n",
    "# Concatenate\n",
    "m = pd.concat( [d2, d3, d4, ct1, ct2, d1, d5, d6] ).T.reset_index()\n",
    "m.columns = ['attributes', 'min', 'max', 'range', 'mean', 'median', 'std', 'skew', 'kurtosis']"
   ]
  },
  {
   "cell_type": "code",
   "execution_count": 17,
   "id": "9713af29",
   "metadata": {
    "ExecuteTime": {
     "end_time": "2022-11-07T18:41:54.759590Z",
     "start_time": "2022-11-07T18:41:54.746896Z"
    },
    "hidden": true,
    "scrolled": true
   },
   "outputs": [
    {
     "data": {
      "text/html": [
       "<div>\n",
       "<style scoped>\n",
       "    .dataframe tbody tr th:only-of-type {\n",
       "        vertical-align: middle;\n",
       "    }\n",
       "\n",
       "    .dataframe tbody tr th {\n",
       "        vertical-align: top;\n",
       "    }\n",
       "\n",
       "    .dataframe thead th {\n",
       "        text-align: right;\n",
       "    }\n",
       "</style>\n",
       "<table border=\"1\" class=\"dataframe\">\n",
       "  <thead>\n",
       "    <tr style=\"text-align: right;\">\n",
       "      <th></th>\n",
       "      <th>attributes</th>\n",
       "      <th>min</th>\n",
       "      <th>max</th>\n",
       "      <th>range</th>\n",
       "      <th>mean</th>\n",
       "      <th>median</th>\n",
       "      <th>std</th>\n",
       "      <th>skew</th>\n",
       "      <th>kurtosis</th>\n",
       "    </tr>\n",
       "  </thead>\n",
       "  <tbody>\n",
       "    <tr>\n",
       "      <th>0</th>\n",
       "      <td>id</td>\n",
       "      <td>1.0</td>\n",
       "      <td>381109.0</td>\n",
       "      <td>381108.0</td>\n",
       "      <td>190555.000000</td>\n",
       "      <td>190555.0</td>\n",
       "      <td>110016.691870</td>\n",
       "      <td>-8.071174e-18</td>\n",
       "      <td>-1.200000</td>\n",
       "    </tr>\n",
       "    <tr>\n",
       "      <th>1</th>\n",
       "      <td>previously_insured</td>\n",
       "      <td>0.0</td>\n",
       "      <td>1.0</td>\n",
       "      <td>1.0</td>\n",
       "      <td>0.458210</td>\n",
       "      <td>0.0</td>\n",
       "      <td>0.498251</td>\n",
       "      <td>1.677471e-01</td>\n",
       "      <td>-1.971871</td>\n",
       "    </tr>\n",
       "    <tr>\n",
       "      <th>2</th>\n",
       "      <td>annual_premium</td>\n",
       "      <td>2630.0</td>\n",
       "      <td>540165.0</td>\n",
       "      <td>537535.0</td>\n",
       "      <td>30564.389581</td>\n",
       "      <td>31669.0</td>\n",
       "      <td>17213.132474</td>\n",
       "      <td>1.766087e+00</td>\n",
       "      <td>34.004569</td>\n",
       "    </tr>\n",
       "    <tr>\n",
       "      <th>3</th>\n",
       "      <td>vintage</td>\n",
       "      <td>10.0</td>\n",
       "      <td>299.0</td>\n",
       "      <td>289.0</td>\n",
       "      <td>154.347397</td>\n",
       "      <td>154.0</td>\n",
       "      <td>83.671194</td>\n",
       "      <td>3.029517e-03</td>\n",
       "      <td>-1.200688</td>\n",
       "    </tr>\n",
       "    <tr>\n",
       "      <th>4</th>\n",
       "      <td>response</td>\n",
       "      <td>0.0</td>\n",
       "      <td>1.0</td>\n",
       "      <td>1.0</td>\n",
       "      <td>0.122563</td>\n",
       "      <td>0.0</td>\n",
       "      <td>0.327935</td>\n",
       "      <td>2.301906e+00</td>\n",
       "      <td>3.298788</td>\n",
       "    </tr>\n",
       "    <tr>\n",
       "      <th>5</th>\n",
       "      <td>age</td>\n",
       "      <td>20.0</td>\n",
       "      <td>85.0</td>\n",
       "      <td>65.0</td>\n",
       "      <td>38.822584</td>\n",
       "      <td>36.0</td>\n",
       "      <td>15.511591</td>\n",
       "      <td>6.725390e-01</td>\n",
       "      <td>-0.565655</td>\n",
       "    </tr>\n",
       "    <tr>\n",
       "      <th>6</th>\n",
       "      <td>region_code</td>\n",
       "      <td>0.0</td>\n",
       "      <td>52.0</td>\n",
       "      <td>52.0</td>\n",
       "      <td>26.388807</td>\n",
       "      <td>28.0</td>\n",
       "      <td>13.229871</td>\n",
       "      <td>-1.152664e-01</td>\n",
       "      <td>-0.867857</td>\n",
       "    </tr>\n",
       "    <tr>\n",
       "      <th>7</th>\n",
       "      <td>policy_sales_channel</td>\n",
       "      <td>1.0</td>\n",
       "      <td>163.0</td>\n",
       "      <td>162.0</td>\n",
       "      <td>112.034295</td>\n",
       "      <td>133.0</td>\n",
       "      <td>54.203924</td>\n",
       "      <td>-9.000081e-01</td>\n",
       "      <td>-0.970810</td>\n",
       "    </tr>\n",
       "    <tr>\n",
       "      <th>8</th>\n",
       "      <td>driving_license</td>\n",
       "      <td>0.0</td>\n",
       "      <td>1.0</td>\n",
       "      <td>1.0</td>\n",
       "      <td>0.997869</td>\n",
       "      <td>1.0</td>\n",
       "      <td>0.046109</td>\n",
       "      <td>-2.159518e+01</td>\n",
       "      <td>464.354302</td>\n",
       "    </tr>\n",
       "  </tbody>\n",
       "</table>\n",
       "</div>"
      ],
      "text/plain": [
       "             attributes     min       max     range           mean    median            std          skew    kurtosis\n",
       "0                    id     1.0  381109.0  381108.0  190555.000000  190555.0  110016.691870 -8.071174e-18   -1.200000\n",
       "1    previously_insured     0.0       1.0       1.0       0.458210       0.0       0.498251  1.677471e-01   -1.971871\n",
       "2        annual_premium  2630.0  540165.0  537535.0   30564.389581   31669.0   17213.132474  1.766087e+00   34.004569\n",
       "3               vintage    10.0     299.0     289.0     154.347397     154.0      83.671194  3.029517e-03   -1.200688\n",
       "4              response     0.0       1.0       1.0       0.122563       0.0       0.327935  2.301906e+00    3.298788\n",
       "5                   age    20.0      85.0      65.0      38.822584      36.0      15.511591  6.725390e-01   -0.565655\n",
       "6           region_code     0.0      52.0      52.0      26.388807      28.0      13.229871 -1.152664e-01   -0.867857\n",
       "7  policy_sales_channel     1.0     163.0     162.0     112.034295     133.0      54.203924 -9.000081e-01   -0.970810\n",
       "8       driving_license     0.0       1.0       1.0       0.997869       1.0       0.046109 -2.159518e+01  464.354302"
      ]
     },
     "execution_count": 17,
     "metadata": {},
     "output_type": "execute_result"
    }
   ],
   "source": [
    "m"
   ]
  },
  {
   "cell_type": "markdown",
   "id": "69b80971",
   "metadata": {
    "heading_collapsed": true,
    "hidden": true
   },
   "source": [
    "### 1.8.2 Categorical Attributes"
   ]
  },
  {
   "cell_type": "code",
   "execution_count": 18,
   "id": "5b59343a",
   "metadata": {
    "ExecuteTime": {
     "end_time": "2022-11-07T18:41:54.808129Z",
     "start_time": "2022-11-07T18:41:54.762347Z"
    },
    "hidden": true
   },
   "outputs": [
    {
     "data": {
      "text/plain": [
       "gender            2\n",
       "vehicle_age       3\n",
       "vehicle_damage    2\n",
       "dtype: int64"
      ]
     },
     "execution_count": 18,
     "metadata": {},
     "output_type": "execute_result"
    }
   ],
   "source": [
    "cat_attributes.apply( lambda x: x.unique().shape[0] )"
   ]
  },
  {
   "cell_type": "code",
   "execution_count": 19,
   "id": "e6fcfb60",
   "metadata": {
    "ExecuteTime": {
     "end_time": "2022-11-07T18:41:55.349197Z",
     "start_time": "2022-11-07T18:41:54.810142Z"
    },
    "hidden": true
   },
   "outputs": [
    {
     "data": {
      "text/plain": [
       "<AxesSubplot:xlabel='vehicle_age', ylabel='id'>"
      ]
     },
     "execution_count": 19,
     "metadata": {},
     "output_type": "execute_result"
    },
    {
     "data": {
      "image/png": "[encoded data removed]",
      "text/plain": [
       "<Figure size 1152x432 with 3 Axes>"
      ]
     },
     "metadata": {},
     "output_type": "display_data"
    }
   ],
   "source": [
    "aux = df1.copy()\n",
    "\n",
    "plt.figure( figsize=(16, 6) )\n",
    "\n",
    "# Graph 1 - Gender\n",
    "plt.subplot( 131 )\n",
    "aux1 = aux[['gender', 'response', 'id']].groupby( ['gender', 'response'] ).count().reset_index()\n",
    "sns.barplot( x='gender', y='id', hue='response', data=aux1 )\n",
    "\n",
    "\n",
    "# Graph 2 - Vehicle Damage\n",
    "plt.subplot( 132 )\n",
    "aux1 = aux[['vehicle_damage', 'response', 'id']].groupby( ['vehicle_damage', 'response'] ).count().reset_index()\n",
    "sns.barplot( x='vehicle_damage', y='id', hue='response', data=aux1 )\n",
    "\n",
    "\n",
    "# Graph 3 - Vehicle Age\n",
    "plt.subplot( 133 )\n",
    "aux1 = aux[['vehicle_age', 'response', 'id']].groupby( ['vehicle_age', 'response'] ).count().reset_index()\n",
    "sns.barplot( x='vehicle_age', y='id', hue='response', data=aux1 )"
   ]
  },
  {
   "cell_type": "markdown",
   "id": "442b754b",
   "metadata": {
    "heading_collapsed": true
   },
   "source": [
    "# 2.0 STEP 02 - FEATURE ENGINEERING"
   ]
  },
  {
   "cell_type": "code",
   "execution_count": 20,
   "id": "0966c697",
   "metadata": {
    "ExecuteTime": {
     "end_time": "2022-11-07T18:41:55.369134Z",
     "start_time": "2022-11-07T18:41:55.351007Z"
    },
    "hidden": true
   },
   "outputs": [],
   "source": [
    "df2 = df1.copy()"
   ]
  },
  {
   "cell_type": "code",
   "execution_count": 21,
   "id": "c3d4942b",
   "metadata": {
    "ExecuteTime": {
     "end_time": "2022-11-07T18:41:55.540130Z",
     "start_time": "2022-11-07T18:41:55.371081Z"
    },
    "hidden": true
   },
   "outputs": [],
   "source": [
    "# vehicle_damage\n",
    "df2['vehicle_damage'] = df2['vehicle_damage'].apply( lambda x: 1 if x == 'Yes' else 0 )\n",
    "\n",
    "# vehicle_age\n",
    "df2['vehicle_age'] = df2['vehicle_age'].apply( lambda x: 'below_1_year' if x == '< 1 Year' else \n",
    "                                                         'between_1_2_year' if x == '1-2 Year' else \n",
    "                                                         'over_2_years' )"
   ]
  },
  {
   "cell_type": "markdown",
   "id": "183debd8",
   "metadata": {
    "heading_collapsed": true
   },
   "source": [
    "# 3.0 STEP 03 - DATA FILTERING"
   ]
  },
  {
   "cell_type": "code",
   "execution_count": 22,
   "id": "a3e372b2",
   "metadata": {
    "ExecuteTime": {
     "end_time": "2022-11-07T18:41:55.581723Z",
     "start_time": "2022-11-07T18:41:55.542456Z"
    },
    "hidden": true
   },
   "outputs": [],
   "source": [
    "df3 = df2.copy()"
   ]
  },
  {
   "cell_type": "code",
   "execution_count": null,
   "id": "286e5e3f",
   "metadata": {
    "hidden": true
   },
   "outputs": [],
   "source": []
  },
  {
   "cell_type": "code",
   "execution_count": null,
   "id": "6314d919",
   "metadata": {
    "hidden": true
   },
   "outputs": [],
   "source": []
  },
  {
   "cell_type": "markdown",
   "id": "933dde65",
   "metadata": {
    "heading_collapsed": true
   },
   "source": [
    "# 4.0 STEP 04 - EXPLORATORY DATA ANALYSIS"
   ]
  },
  {
   "cell_type": "code",
   "execution_count": 23,
   "id": "046def1f",
   "metadata": {
    "ExecuteTime": {
     "end_time": "2022-11-07T18:41:55.590591Z",
     "start_time": "2022-11-07T18:41:55.583542Z"
    },
    "hidden": true
   },
   "outputs": [],
   "source": [
    "df4 = df3.copy()"
   ]
  },
  {
   "cell_type": "markdown",
   "id": "16e1871a",
   "metadata": {
    "hidden": true
   },
   "source": [
    "## 4.1 Univariate Analysis"
   ]
  },
  {
   "cell_type": "code",
   "execution_count": 24,
   "id": "81a803ff",
   "metadata": {
    "ExecuteTime": {
     "end_time": "2022-11-07T18:41:55.603136Z",
     "start_time": "2022-11-07T18:41:55.592887Z"
    },
    "hidden": true
   },
   "outputs": [
    {
     "data": {
      "text/plain": [
       "Index(['id', 'previously_insured', 'annual_premium', 'vintage', 'response',\n",
       "       'gender', 'age', 'region_code', 'policy_sales_channel',\n",
       "       'driving_license', 'vehicle_age', 'vehicle_damage'],\n",
       "      dtype='object')"
      ]
     },
     "execution_count": 24,
     "metadata": {},
     "output_type": "execute_result"
    }
   ],
   "source": [
    "df4.columns"
   ]
  },
  {
   "cell_type": "markdown",
   "id": "21a5e306",
   "metadata": {
    "ExecuteTime": {
     "end_time": "2022-09-17T21:08:29.991064Z",
     "start_time": "2022-09-17T21:08:29.988525Z"
    },
    "heading_collapsed": true,
    "hidden": true
   },
   "source": [
    "### 4.1.1 Age"
   ]
  },
  {
   "cell_type": "code",
   "execution_count": 25,
   "id": "07b86588",
   "metadata": {
    "ExecuteTime": {
     "end_time": "2022-11-07T18:41:55.761854Z",
     "start_time": "2022-11-07T18:41:55.605363Z"
    },
    "hidden": true
   },
   "outputs": [
    {
     "data": {
      "image/png": "[encoded data removed]",
      "text/plain": [
       "<Figure size 504x504 with 1 Axes>"
      ]
     },
     "metadata": {},
     "output_type": "display_data"
    }
   ],
   "source": [
    "# age\n",
    "sns.set(rc={'figure.figsize':(7, 7)})\n",
    "sns.boxplot( x='response', y='age', data=df4 );"
   ]
  },
  {
   "cell_type": "code",
   "execution_count": 26,
   "id": "bb47f27e",
   "metadata": {
    "ExecuteTime": {
     "end_time": "2022-11-07T18:41:56.503432Z",
     "start_time": "2022-11-07T18:41:55.763860Z"
    },
    "hidden": true
   },
   "outputs": [
    {
     "data": {
      "image/png": "[encoded data removed]",
      "text/plain": [
       "<Figure size 1080x504 with 2 Axes>"
      ]
     },
     "metadata": {},
     "output_type": "display_data"
    }
   ],
   "source": [
    "# Plot size\n",
    "sns.set(rc={'figure.figsize':(15, 7)})\n",
    "\n",
    "# Graph 1 - 'No'\n",
    "plt.subplot( 121 )\n",
    "aux1 = df4.loc[df4['response'] == 0, 'age']\n",
    "sns.histplot( aux1 );\n",
    "\n",
    "# Graph 2 - 'Yes'\n",
    "plt.subplot( 122 )\n",
    "aux1 = df4.loc[df4['response'] == 1, 'age']\n",
    "sns.histplot( aux1 );"
   ]
  },
  {
   "cell_type": "markdown",
   "id": "7ad3d42d",
   "metadata": {
    "ExecuteTime": {
     "end_time": "2022-09-17T21:08:29.991064Z",
     "start_time": "2022-09-17T21:08:29.988525Z"
    },
    "heading_collapsed": true,
    "hidden": true
   },
   "source": [
    "### 4.1.2 Annual Premium"
   ]
  },
  {
   "cell_type": "code",
   "execution_count": 27,
   "id": "a134d7fe",
   "metadata": {
    "ExecuteTime": {
     "end_time": "2022-11-07T18:41:57.754694Z",
     "start_time": "2022-11-07T18:41:56.505330Z"
    },
    "hidden": true,
    "scrolled": false
   },
   "outputs": [
    {
     "data": {
      "image/png": "[encoded data removed]",
      "text/plain": [
       "<Figure size 504x504 with 1 Axes>"
      ]
     },
     "metadata": {},
     "output_type": "display_data"
    }
   ],
   "source": [
    "# annual_premium\n",
    "sns.set(rc={'figure.figsize':(7, 7)})\n",
    "aux1 = df4[df4['annual_premium'] < 80000]\n",
    "sns.boxplot( x='response', y='annual_premium', data=aux1 );"
   ]
  },
  {
   "cell_type": "code",
   "execution_count": 28,
   "id": "392dace0",
   "metadata": {
    "ExecuteTime": {
     "end_time": "2022-11-07T18:41:58.726947Z",
     "start_time": "2022-11-07T18:41:57.758760Z"
    },
    "hidden": true
   },
   "outputs": [
    {
     "data": {
      "image/png": "[encoded data removed]",
      "text/plain": [
       "<Figure size 1080x504 with 2 Axes>"
      ]
     },
     "metadata": {},
     "output_type": "display_data"
    }
   ],
   "source": [
    "# Plot size\n",
    "sns.set(rc={'figure.figsize':(15, 7)})\n",
    "\n",
    "# Graph 1 - 'No'\n",
    "plt.subplot( 121 )\n",
    "aux2 = aux1.loc[aux1['response'] == 0, 'annual_premium']\n",
    "sns.histplot( aux2 );\n",
    "\n",
    "# Graph 2 - 'Yes'\n",
    "plt.subplot( 122 )\n",
    "aux3 = aux1.loc[aux1['response'] == 1, 'annual_premium']\n",
    "sns.histplot( aux3 );"
   ]
  },
  {
   "cell_type": "markdown",
   "id": "4968d575",
   "metadata": {
    "ExecuteTime": {
     "end_time": "2022-09-17T21:08:29.991064Z",
     "start_time": "2022-09-17T21:08:29.988525Z"
    },
    "heading_collapsed": true,
    "hidden": true
   },
   "source": [
    "### 4.1.3 Driving License"
   ]
  },
  {
   "cell_type": "code",
   "execution_count": 29,
   "id": "84ece46e",
   "metadata": {
    "ExecuteTime": {
     "end_time": "2022-11-07T18:41:58.742926Z",
     "start_time": "2022-11-07T18:41:58.729320Z"
    },
    "hidden": true
   },
   "outputs": [
    {
     "data": {
      "text/html": [
       "<div>\n",
       "<style scoped>\n",
       "    .dataframe tbody tr th:only-of-type {\n",
       "        vertical-align: middle;\n",
       "    }\n",
       "\n",
       "    .dataframe tbody tr th {\n",
       "        vertical-align: top;\n",
       "    }\n",
       "\n",
       "    .dataframe thead th {\n",
       "        text-align: right;\n",
       "    }\n",
       "</style>\n",
       "<table border=\"1\" class=\"dataframe\">\n",
       "  <thead>\n",
       "    <tr style=\"text-align: right;\">\n",
       "      <th></th>\n",
       "      <th>id</th>\n",
       "      <th>previously_insured</th>\n",
       "      <th>annual_premium</th>\n",
       "      <th>vintage</th>\n",
       "      <th>response</th>\n",
       "      <th>gender</th>\n",
       "      <th>age</th>\n",
       "      <th>region_code</th>\n",
       "      <th>policy_sales_channel</th>\n",
       "      <th>driving_license</th>\n",
       "      <th>vehicle_age</th>\n",
       "      <th>vehicle_damage</th>\n",
       "      <th>driving_license_perc</th>\n",
       "    </tr>\n",
       "  </thead>\n",
       "  <tbody>\n",
       "    <tr>\n",
       "      <th>0</th>\n",
       "      <td>7</td>\n",
       "      <td>0</td>\n",
       "      <td>23367.0</td>\n",
       "      <td>249</td>\n",
       "      <td>0</td>\n",
       "      <td>Male</td>\n",
       "      <td>23</td>\n",
       "      <td>11</td>\n",
       "      <td>152.0</td>\n",
       "      <td>1</td>\n",
       "      <td>&lt; 1 Year</td>\n",
       "      <td>Yes</td>\n",
       "      <td>0.000003</td>\n",
       "    </tr>\n",
       "    <tr>\n",
       "      <th>1</th>\n",
       "      <td>13</td>\n",
       "      <td>1</td>\n",
       "      <td>31409.0</td>\n",
       "      <td>221</td>\n",
       "      <td>0</td>\n",
       "      <td>Female</td>\n",
       "      <td>41</td>\n",
       "      <td>15</td>\n",
       "      <td>14.0</td>\n",
       "      <td>1</td>\n",
       "      <td>1-2 Year</td>\n",
       "      <td>No</td>\n",
       "      <td>0.000003</td>\n",
       "    </tr>\n",
       "    <tr>\n",
       "      <th>2</th>\n",
       "      <td>18</td>\n",
       "      <td>1</td>\n",
       "      <td>46622.0</td>\n",
       "      <td>299</td>\n",
       "      <td>0</td>\n",
       "      <td>Female</td>\n",
       "      <td>25</td>\n",
       "      <td>35</td>\n",
       "      <td>152.0</td>\n",
       "      <td>1</td>\n",
       "      <td>&lt; 1 Year</td>\n",
       "      <td>No</td>\n",
       "      <td>0.000003</td>\n",
       "    </tr>\n",
       "    <tr>\n",
       "      <th>3</th>\n",
       "      <td>31</td>\n",
       "      <td>0</td>\n",
       "      <td>2630.0</td>\n",
       "      <td>136</td>\n",
       "      <td>0</td>\n",
       "      <td>Female</td>\n",
       "      <td>26</td>\n",
       "      <td>8</td>\n",
       "      <td>160.0</td>\n",
       "      <td>1</td>\n",
       "      <td>&lt; 1 Year</td>\n",
       "      <td>No</td>\n",
       "      <td>0.000003</td>\n",
       "    </tr>\n",
       "    <tr>\n",
       "      <th>4</th>\n",
       "      <td>39</td>\n",
       "      <td>0</td>\n",
       "      <td>42297.0</td>\n",
       "      <td>264</td>\n",
       "      <td>0</td>\n",
       "      <td>Male</td>\n",
       "      <td>45</td>\n",
       "      <td>8</td>\n",
       "      <td>124.0</td>\n",
       "      <td>1</td>\n",
       "      <td>1-2 Year</td>\n",
       "      <td>Yes</td>\n",
       "      <td>0.000003</td>\n",
       "    </tr>\n",
       "  </tbody>\n",
       "</table>\n",
       "</div>"
      ],
      "text/plain": [
       "   id  previously_insured  annual_premium  vintage  response  gender  age  region_code  policy_sales_channel  driving_license vehicle_age vehicle_damage  driving_license_perc\n",
       "0   7                   0         23367.0      249         0    Male   23           11                 152.0                1    < 1 Year            Yes              0.000003\n",
       "1  13                   1         31409.0      221         0  Female   41           15                  14.0                1    1-2 Year             No              0.000003\n",
       "2  18                   1         46622.0      299         0  Female   25           35                 152.0                1    < 1 Year             No              0.000003\n",
       "3  31                   0          2630.0      136         0  Female   26            8                 160.0                1    < 1 Year             No              0.000003\n",
       "4  39                   0         42297.0      264         0    Male   45            8                 124.0                1    1-2 Year            Yes              0.000003"
      ]
     },
     "execution_count": 29,
     "metadata": {},
     "output_type": "execute_result"
    }
   ],
   "source": [
    "# driving_license\n",
    "aux['driving_license_perc'] = aux['driving_license'] / aux['driving_license'].sum()\n",
    "aux.head()"
   ]
  },
  {
   "cell_type": "code",
   "execution_count": 30,
   "id": "4413ec5b",
   "metadata": {
    "ExecuteTime": {
     "end_time": "2022-11-07T18:41:58.891622Z",
     "start_time": "2022-11-07T18:41:58.744995Z"
    },
    "hidden": true
   },
   "outputs": [
    {
     "data": {
      "text/plain": [
       "<AxesSubplot:xlabel='response', ylabel='driving_license'>"
      ]
     },
     "execution_count": 30,
     "metadata": {},
     "output_type": "execute_result"
    },
    {
     "data": {
      "image/png": "[encoded data removed]",
      "text/plain": [
       "<Figure size 1080x504 with 1 Axes>"
      ]
     },
     "metadata": {},
     "output_type": "display_data"
    }
   ],
   "source": [
    "aux = df4[['driving_license', 'response']].groupby( 'response' ).sum().reset_index()\n",
    "sns.barplot( x='response', y='driving_license', data=aux )"
   ]
  },
  {
   "cell_type": "markdown",
   "id": "96111cb8",
   "metadata": {
    "ExecuteTime": {
     "end_time": "2022-09-17T21:08:29.991064Z",
     "start_time": "2022-09-17T21:08:29.988525Z"
    },
    "heading_collapsed": true,
    "hidden": true
   },
   "source": [
    "### 4.1.4 Region Code"
   ]
  },
  {
   "cell_type": "code",
   "execution_count": 31,
   "id": "c68af8a8",
   "metadata": {
    "ExecuteTime": {
     "end_time": "2022-11-07T18:41:59.166686Z",
     "start_time": "2022-11-07T18:41:58.893880Z"
    },
    "hidden": true
   },
   "outputs": [
    {
     "data": {
      "image/png": "[encoded data removed]",
      "text/plain": [
       "<Figure size 1080x504 with 1 Axes>"
      ]
     },
     "metadata": {},
     "output_type": "display_data"
    }
   ],
   "source": [
    "# region_code\n",
    "aux0 = df4[['id', 'region_code', 'response']].groupby( ['region_code', 'response'] ).count().reset_index()\n",
    "\n",
    "sns.scatterplot( x='region_code', y='id', hue='response', data=aux0 );"
   ]
  },
  {
   "cell_type": "code",
   "execution_count": null,
   "id": "ed1ca508",
   "metadata": {
    "hidden": true
   },
   "outputs": [],
   "source": [
    " "
   ]
  },
  {
   "cell_type": "code",
   "execution_count": null,
   "id": "e7320e56",
   "metadata": {
    "hidden": true
   },
   "outputs": [],
   "source": []
  },
  {
   "cell_type": "code",
   "execution_count": null,
   "id": "8b561a85",
   "metadata": {
    "hidden": true
   },
   "outputs": [],
   "source": []
  },
  {
   "cell_type": "code",
   "execution_count": null,
   "id": "2bdd1986",
   "metadata": {
    "hidden": true
   },
   "outputs": [],
   "source": []
  },
  {
   "cell_type": "markdown",
   "id": "6006843b",
   "metadata": {
    "ExecuteTime": {
     "end_time": "2022-09-17T21:08:29.991064Z",
     "start_time": "2022-09-17T21:08:29.988525Z"
    },
    "heading_collapsed": true,
    "hidden": true
   },
   "source": [
    "### 4.1.5 Previously Insured"
   ]
  },
  {
   "cell_type": "code",
   "execution_count": 32,
   "id": "00217bfb",
   "metadata": {
    "ExecuteTime": {
     "end_time": "2022-11-07T18:41:59.208271Z",
     "start_time": "2022-11-07T18:41:59.169223Z"
    },
    "hidden": true
   },
   "outputs": [
    {
     "data": {
      "text/html": [
       "<div>\n",
       "<style scoped>\n",
       "    .dataframe tbody tr th:only-of-type {\n",
       "        vertical-align: middle;\n",
       "    }\n",
       "\n",
       "    .dataframe tbody tr th {\n",
       "        vertical-align: top;\n",
       "    }\n",
       "\n",
       "    .dataframe thead th {\n",
       "        text-align: right;\n",
       "    }\n",
       "</style>\n",
       "<table border=\"1\" class=\"dataframe\">\n",
       "  <thead>\n",
       "    <tr style=\"text-align: right;\">\n",
       "      <th>response</th>\n",
       "      <th>0</th>\n",
       "      <th>1</th>\n",
       "    </tr>\n",
       "    <tr>\n",
       "      <th>previously_insured</th>\n",
       "      <th></th>\n",
       "      <th></th>\n",
       "    </tr>\n",
       "  </thead>\n",
       "  <tbody>\n",
       "    <tr>\n",
       "      <th>0</th>\n",
       "      <td>0.774546</td>\n",
       "      <td>0.225454</td>\n",
       "    </tr>\n",
       "    <tr>\n",
       "      <th>1</th>\n",
       "      <td>0.999095</td>\n",
       "      <td>0.000905</td>\n",
       "    </tr>\n",
       "  </tbody>\n",
       "</table>\n",
       "</div>"
      ],
      "text/plain": [
       "response                   0         1\n",
       "previously_insured                    \n",
       "0                   0.774546  0.225454\n",
       "1                   0.999095  0.000905"
      ]
     },
     "execution_count": 32,
     "metadata": {},
     "output_type": "execute_result"
    }
   ],
   "source": [
    "# previously insured\n",
    "pd.crosstab( df4['previously_insured'], df4['response'] ).apply( lambda x: x / x.sum(), axis=1 )"
   ]
  },
  {
   "cell_type": "markdown",
   "id": "4691bb1f",
   "metadata": {
    "ExecuteTime": {
     "end_time": "2022-09-17T21:08:29.991064Z",
     "start_time": "2022-09-17T21:08:29.988525Z"
    },
    "cell_style": "center",
    "heading_collapsed": true,
    "hidden": true
   },
   "source": [
    "### 4.1.6 Vehicle Age"
   ]
  },
  {
   "cell_type": "code",
   "execution_count": 33,
   "id": "9a428c94",
   "metadata": {
    "ExecuteTime": {
     "end_time": "2022-11-07T18:41:59.253221Z",
     "start_time": "2022-11-07T18:41:59.210665Z"
    },
    "hidden": true
   },
   "outputs": [
    {
     "data": {
      "text/html": [
       "<div>\n",
       "<style scoped>\n",
       "    .dataframe tbody tr th:only-of-type {\n",
       "        vertical-align: middle;\n",
       "    }\n",
       "\n",
       "    .dataframe tbody tr th {\n",
       "        vertical-align: top;\n",
       "    }\n",
       "\n",
       "    .dataframe thead th {\n",
       "        text-align: right;\n",
       "    }\n",
       "</style>\n",
       "<table border=\"1\" class=\"dataframe\">\n",
       "  <thead>\n",
       "    <tr style=\"text-align: right;\">\n",
       "      <th></th>\n",
       "      <th>vehicle_age</th>\n",
       "      <th>response</th>\n",
       "      <th>0</th>\n",
       "    </tr>\n",
       "  </thead>\n",
       "  <tbody>\n",
       "    <tr>\n",
       "      <th>0</th>\n",
       "      <td>between_1_2_year</td>\n",
       "      <td>0</td>\n",
       "      <td>0.434285</td>\n",
       "    </tr>\n",
       "    <tr>\n",
       "      <th>1</th>\n",
       "      <td>below_1_year</td>\n",
       "      <td>0</td>\n",
       "      <td>0.413488</td>\n",
       "    </tr>\n",
       "    <tr>\n",
       "      <th>2</th>\n",
       "      <td>between_1_2_year</td>\n",
       "      <td>1</td>\n",
       "      <td>0.091328</td>\n",
       "    </tr>\n",
       "    <tr>\n",
       "      <th>3</th>\n",
       "      <td>over_2_years</td>\n",
       "      <td>0</td>\n",
       "      <td>0.029663</td>\n",
       "    </tr>\n",
       "    <tr>\n",
       "      <th>4</th>\n",
       "      <td>below_1_year</td>\n",
       "      <td>1</td>\n",
       "      <td>0.018897</td>\n",
       "    </tr>\n",
       "    <tr>\n",
       "      <th>5</th>\n",
       "      <td>over_2_years</td>\n",
       "      <td>1</td>\n",
       "      <td>0.012338</td>\n",
       "    </tr>\n",
       "  </tbody>\n",
       "</table>\n",
       "</div>"
      ],
      "text/plain": [
       "        vehicle_age  response         0\n",
       "0  between_1_2_year         0  0.434285\n",
       "1      below_1_year         0  0.413488\n",
       "2  between_1_2_year         1  0.091328\n",
       "3      over_2_years         0  0.029663\n",
       "4      below_1_year         1  0.018897\n",
       "5      over_2_years         1  0.012338"
      ]
     },
     "execution_count": 33,
     "metadata": {},
     "output_type": "execute_result"
    }
   ],
   "source": [
    "# vehicle_age\n",
    "df4[['vehicle_age', 'response']].value_counts( normalize=True ).reset_index()"
   ]
  },
  {
   "cell_type": "markdown",
   "id": "4b32e8a5",
   "metadata": {
    "ExecuteTime": {
     "end_time": "2022-09-17T21:08:29.991064Z",
     "start_time": "2022-09-17T21:08:29.988525Z"
    },
    "heading_collapsed": true,
    "hidden": true
   },
   "source": [
    "### 4.1.7 Policy Sales Channel"
   ]
  },
  {
   "cell_type": "code",
   "execution_count": 34,
   "id": "3d2c3029",
   "metadata": {
    "ExecuteTime": {
     "end_time": "2022-11-07T18:42:02.342592Z",
     "start_time": "2022-11-07T18:41:59.254987Z"
    },
    "hidden": true,
    "scrolled": false
   },
   "outputs": [
    {
     "data": {
      "image/png": "[encoded data removed]",
      "text/plain": [
       "<Figure size 1080x504 with 2 Axes>"
      ]
     },
     "metadata": {},
     "output_type": "display_data"
    }
   ],
   "source": [
    "plt.subplot( 212 )\n",
    "aux1 = df4[df4['policy_sales_channel'] >= 80.0].groupby( 'policy_sales_channel' )['response'].count().reset_index()\n",
    "sns.barplot( x='policy_sales_channel', y='response', data=aux1 )\n",
    "plt.xticks(rotation=90);\n",
    "\n",
    "plt.subplot( 211 )\n",
    "aux2 = df4[df4['policy_sales_channel'] < 80.0].groupby( 'policy_sales_channel' )['response'].count().reset_index()\n",
    "sns.barplot( x='policy_sales_channel', y='response', data=aux2 )\n",
    "plt.xticks(rotation=90);"
   ]
  },
  {
   "cell_type": "code",
   "execution_count": 35,
   "id": "0bc8f35c",
   "metadata": {
    "ExecuteTime": {
     "end_time": "2022-11-07T18:42:02.418084Z",
     "start_time": "2022-11-07T18:42:02.344945Z"
    },
    "hidden": true,
    "hide_input": true
   },
   "outputs": [],
   "source": [
    "# Select Columns and Policy Sales Channel <= 80\n",
    "aux1 = df4[df4['policy_sales_channel'] <= 80][['response', 'policy_sales_channel']]\n",
    "aux1['policy_sales_channel'] = aux1['policy_sales_channel'].astype( 'int' )\n",
    "\n",
    "\n",
    "\n",
    "# Response Percentage by Policy Sales Channel\n",
    "cross_tab_prop1 = pd.crosstab( index=aux1['policy_sales_channel'],\n",
    "                              columns=aux1['response'],\n",
    "                              normalize=\"index\" )\n",
    "\n",
    "# =========================================================================================================\n",
    "\n",
    "# Select Columns and Policy Sales Channel > 80\n",
    "aux2 = df4[df4['policy_sales_channel'] > 80][['response', 'policy_sales_channel']]\n",
    "aux2['policy_sales_channel'] = aux2['policy_sales_channel'].astype( 'int' )\n",
    "\n",
    "# Response Percentage by Policy Sales Channel\n",
    "cross_tab_prop2 = pd.crosstab( index=aux2['policy_sales_channel'],\n",
    "                              columns=aux2['response'],\n",
    "                              normalize=\"index\" )"
   ]
  },
  {
   "cell_type": "code",
   "execution_count": 36,
   "id": "e79caa72",
   "metadata": {
    "ExecuteTime": {
     "end_time": "2022-11-07T18:42:04.927094Z",
     "start_time": "2022-11-07T18:42:02.419876Z"
    },
    "hidden": true,
    "hide_input": true
   },
   "outputs": [
    {
     "data": {
      "image/png": "[encoded data removed]",
      "text/plain": [
       "<Figure size 1800x432 with 1 Axes>"
      ]
     },
     "metadata": {},
     "output_type": "display_data"
    },
    {
     "data": {
      "image/png": "[encoded data removed]",
      "text/plain": [
       "<Figure size 1800x432 with 1 Axes>"
      ]
     },
     "metadata": {},
     "output_type": "display_data"
    }
   ],
   "source": [
    "# Graph 1 - Policy Sales Channel <= 80\n",
    "# plt.subplot( 211 )\n",
    "cross_tab_prop1.plot( kind='bar',\n",
    "                     stacked=True,\n",
    "                     colormap='tab10',\n",
    "                     figsize=(25, 6))\n",
    "\n",
    "plt.legend( loc='upper left', ncol=1 )\n",
    "plt.xlabel( 'Policy Sales Channel' )\n",
    "plt.ylabel( 'Response' )\n",
    "plt.xticks( rotation=90 )\n",
    "plt.show()\n",
    "\n",
    "# Graph 2 - Policy Sales Channel > 80\n",
    "# plt.subplot( 212 )\n",
    "cross_tab_prop2.plot( kind='bar',\n",
    "                     stacked=True,\n",
    "                     colormap='tab10',\n",
    "                     figsize=(25, 6))\n",
    "\n",
    "plt.legend( loc='upper left', ncol=1 )\n",
    "plt.xlabel( 'Policy Sales Channel' )\n",
    "plt.ylabel( 'Response' )\n",
    "plt.xticks( rotation=90 )\n",
    "plt.show()"
   ]
  },
  {
   "cell_type": "markdown",
   "id": "fa2efe43",
   "metadata": {
    "ExecuteTime": {
     "end_time": "2022-09-17T21:08:29.991064Z",
     "start_time": "2022-09-17T21:08:29.988525Z"
    },
    "heading_collapsed": true,
    "hidden": true
   },
   "source": [
    "### 4.1.8 Vintage"
   ]
  },
  {
   "cell_type": "code",
   "execution_count": 37,
   "id": "1ab61fe6",
   "metadata": {
    "ExecuteTime": {
     "end_time": "2022-11-07T18:42:05.083251Z",
     "start_time": "2022-11-07T18:42:04.929121Z"
    },
    "hidden": true,
    "hide_input": false
   },
   "outputs": [
    {
     "data": {
      "image/png": "[encoded data removed]",
      "text/plain": [
       "<Figure size 1080x504 with 1 Axes>"
      ]
     },
     "metadata": {},
     "output_type": "display_data"
    }
   ],
   "source": [
    "# vintage\n",
    "sns.boxplot( x='response', y='vintage', data=df4 );"
   ]
  },
  {
   "cell_type": "code",
   "execution_count": 38,
   "id": "1842ae16",
   "metadata": {
    "ExecuteTime": {
     "end_time": "2022-11-07T18:42:05.734666Z",
     "start_time": "2022-11-07T18:42:05.085344Z"
    },
    "hidden": true
   },
   "outputs": [
    {
     "data": {
      "image/png": "[encoded data removed]",
      "text/plain": [
       "<Figure size 1080x504 with 2 Axes>"
      ]
     },
     "metadata": {},
     "output_type": "display_data"
    }
   ],
   "source": [
    "# Graph 1 - Dist of Response = No\n",
    "plt.subplot( 121 )\n",
    "aux1 = df4.loc[df4['response'] == 0, 'vintage']\n",
    "sns.histplot( aux1 );\n",
    "\n",
    "# Graph 1 - Dist of Response = Yes\n",
    "plt.subplot( 122 )\n",
    "aux2 = df4.loc[df4['response'] == 1, 'vintage']\n",
    "sns.histplot( aux2 );"
   ]
  },
  {
   "cell_type": "markdown",
   "id": "7bc56ba5",
   "metadata": {},
   "source": [
    "# 5.0 STEP 05 - DATA PREPARATION"
   ]
  },
  {
   "cell_type": "code",
   "execution_count": 59,
   "id": "d4f39875",
   "metadata": {
    "ExecuteTime": {
     "end_time": "2022-11-07T19:14:34.191994Z",
     "start_time": "2022-11-07T19:14:34.184604Z"
    }
   },
   "outputs": [],
   "source": [
    "df5 = df4.copy()"
   ]
  },
  {
   "cell_type": "code",
   "execution_count": 60,
   "id": "a1e9eb35",
   "metadata": {
    "ExecuteTime": {
     "end_time": "2022-11-07T19:14:34.643465Z",
     "start_time": "2022-11-07T19:14:34.561439Z"
    }
   },
   "outputs": [],
   "source": [
    "X = df4.drop( 'response', axis=1 )\n",
    "y = df4['response'].copy()\n",
    "\n",
    "x_train, x_val, y_train, y_val = ms.train_test_split( X, y, test_size=0.20 )\n",
    "\n",
    "df5 = pd.concat( [x_train, y_train], axis=1 )"
   ]
  },
  {
   "cell_type": "markdown",
   "id": "c23df04e",
   "metadata": {},
   "source": [
    "## 5.1 Standardization"
   ]
  },
  {
   "cell_type": "code",
   "execution_count": 61,
   "id": "ecaba1e7",
   "metadata": {
    "ExecuteTime": {
     "end_time": "2022-11-07T19:14:35.224514Z",
     "start_time": "2022-11-07T19:14:35.211075Z"
    }
   },
   "outputs": [],
   "source": [
    "ss = pp.StandardScaler()\n",
    "\n",
    "# Annual Premium\n",
    "df5['annual_premium'] = ss.fit_transform( df5[['annual_premium']].values )"
   ]
  },
  {
   "cell_type": "markdown",
   "id": "dcbe350f",
   "metadata": {},
   "source": [
    "## 5.2 Rescaling "
   ]
  },
  {
   "cell_type": "code",
   "execution_count": 62,
   "id": "7053e9a3",
   "metadata": {
    "ExecuteTime": {
     "end_time": "2022-11-07T19:14:36.092445Z",
     "start_time": "2022-11-07T19:14:36.073134Z"
    }
   },
   "outputs": [],
   "source": [
    "mms_age = pp.MinMaxScaler()\n",
    "mms_vintage = pp.MinMaxScaler()\n",
    "\n",
    "# Age\n",
    "df5['age'] = mms_age.fit_transform( df5[['age']].values )\n",
    "\n",
    "# Vintage\n",
    "df5['vintage'] = mms_vintage.fit_transform( df5[['vintage']].values )"
   ]
  },
  {
   "cell_type": "markdown",
   "id": "1cb589f3",
   "metadata": {},
   "source": [
    "## 5.3 Encoder"
   ]
  },
  {
   "cell_type": "code",
   "execution_count": 63,
   "id": "5aa4a3cc",
   "metadata": {
    "ExecuteTime": {
     "end_time": "2022-11-07T19:14:36.622278Z",
     "start_time": "2022-11-07T19:14:36.609942Z"
    }
   },
   "outputs": [],
   "source": [
    "# region_code - target encoding / frequency encoding / weighted target encoding\n",
    "target_encoding_region_code = df5.groupby( 'region_code' )['response'].mean()\n",
    "df5.loc[:, 'region_code'] = df5['region_code'].map( target_encoding_region_code )"
   ]
  },
  {
   "cell_type": "code",
   "execution_count": 64,
   "id": "fd5e4c18",
   "metadata": {
    "ExecuteTime": {
     "end_time": "2022-11-07T19:14:37.203412Z",
     "start_time": "2022-11-07T19:14:37.172864Z"
    }
   },
   "outputs": [],
   "source": [
    "# Gender - One Hot encoding / Target encoding\n",
    "target_encode_gender = df5.groupby( 'gender' )['response'].mean()\n",
    "df5.loc[:, 'gender'] = df5['gender'].map( target_encode_gender )"
   ]
  },
  {
   "cell_type": "code",
   "execution_count": 65,
   "id": "a39f0571",
   "metadata": {
    "ExecuteTime": {
     "end_time": "2022-11-07T19:14:37.553427Z",
     "start_time": "2022-11-07T19:14:37.510108Z"
    }
   },
   "outputs": [],
   "source": [
    "# vehicle_age - one hot encoding / frequency encoding / order encoding\n",
    "df5 = pd.get_dummies( df5, prefix='vehicle_age', columns=['vehicle_age'] )\n"
   ]
  },
  {
   "cell_type": "code",
   "execution_count": 66,
   "id": "10bc009a",
   "metadata": {
    "ExecuteTime": {
     "end_time": "2022-11-07T19:14:37.857610Z",
     "start_time": "2022-11-07T19:14:37.833912Z"
    }
   },
   "outputs": [
    {
     "data": {
      "text/plain": [
       "response\n",
       "0    267543\n",
       "1     37344\n",
       "dtype: int64"
      ]
     },
     "execution_count": 66,
     "metadata": {},
     "output_type": "execute_result"
    }
   ],
   "source": [
    "# policy_sales_channel - Target encoding / frequency encoding\n",
    "fe_policy_sales_channel = df5.groupby( 'policy_sales_channel' ).size() / len( df5 )\n",
    "df5.loc[:, 'policy_sales_channel'] = df5['policy_sales_channel'].map( fe_policy_sales_channel )\n",
    "\n",
    "df5.groupby( 'response' ).size()"
   ]
  },
  {
   "cell_type": "markdown",
   "id": "57f7f0bf",
   "metadata": {},
   "source": [
    "## 5.4 Validation Preparation"
   ]
  },
  {
   "cell_type": "code",
   "execution_count": 67,
   "id": "07994f10",
   "metadata": {
    "ExecuteTime": {
     "end_time": "2022-11-07T19:14:38.858238Z",
     "start_time": "2022-11-07T19:14:38.823090Z"
    }
   },
   "outputs": [],
   "source": [
    "# Gender - One Hot encoding / Target encoding\n",
    "x_val.loc[:, 'gender'] = x_val['gender'].map( target_encode_gender )\n",
    "\n",
    "# Annual Premium\n",
    "x_val['annual_premium'] = ss.fit_transform( x_val[['annual_premium']].values )\n",
    "\n",
    "# Age\n",
    "x_val['age'] = mms_age.fit_transform( x_val[['age']].values )\n",
    "\n",
    "# Vintage\n",
    "x_val['vintage'] = mms_vintage.fit_transform( x_val[['vintage']].values )\n",
    "\n",
    "# region_code - target encoding / frequency encoding / weighted target encoding\n",
    "x_val.loc[:, 'region_code'] = x_val['region_code'].map( target_encoding_region_code )\n",
    "\n",
    "# vehicle_age - one hot encoding / frequency encoding / order encoding\n",
    "x_val = pd.get_dummies( x_val, prefix='vehicle_age', columns=['vehicle_age'] )\n",
    "\n",
    "# policy_sales_channel - Target encoding / frequency encoding\n",
    "x_val.loc[:, 'policy_sales_channel'] = x_val['policy_sales_channel'].map( fe_policy_sales_channel )\n",
    "\n",
    "# fillna\n",
    "x_val = x_val.fillna( 0 )"
   ]
  },
  {
   "cell_type": "markdown",
   "id": "c0999d73",
   "metadata": {},
   "source": [
    "# 6.0 STEP 06 - FEATURE SELECTION"
   ]
  },
  {
   "cell_type": "code",
   "execution_count": 69,
   "id": "f21929fa",
   "metadata": {
    "ExecuteTime": {
     "end_time": "2022-11-07T21:00:47.600349Z",
     "start_time": "2022-11-07T21:00:32.882976Z"
    }
   },
   "outputs": [
    {
     "data": {
      "text/html": [
       "<style>#sk-container-id-1 {color: black;background-color: white;}#sk-container-id-1 pre{padding: 0;}#sk-container-id-1 div.sk-toggleable {background-color: white;}#sk-container-id-1 label.sk-toggleable__label {cursor: pointer;display: block;width: 100%;margin-bottom: 0;padding: 0.3em;box-sizing: border-box;text-align: center;}#sk-container-id-1 label.sk-toggleable__label-arrow:before {content: \"▸\";float: left;margin-right: 0.25em;color: #696969;}#sk-container-id-1 label.sk-toggleable__label-arrow:hover:before {color: black;}#sk-container-id-1 div.sk-estimator:hover label.sk-toggleable__label-arrow:before {color: black;}#sk-container-id-1 div.sk-toggleable__content {max-height: 0;max-width: 0;overflow: hidden;text-align: left;background-color: #f0f8ff;}#sk-container-id-1 div.sk-toggleable__content pre {margin: 0.2em;color: black;border-radius: 0.25em;background-color: #f0f8ff;}#sk-container-id-1 input.sk-toggleable__control:checked~div.sk-toggleable__content {max-height: 200px;max-width: 100%;overflow: auto;}#sk-container-id-1 input.sk-toggleable__control:checked~label.sk-toggleable__label-arrow:before {content: \"▾\";}#sk-container-id-1 div.sk-estimator input.sk-toggleable__control:checked~label.sk-toggleable__label {background-color: #d4ebff;}#sk-container-id-1 div.sk-label input.sk-toggleable__control:checked~label.sk-toggleable__label {background-color: #d4ebff;}#sk-container-id-1 input.sk-hidden--visually {border: 0;clip: rect(1px 1px 1px 1px);clip: rect(1px, 1px, 1px, 1px);height: 1px;margin: -1px;overflow: hidden;padding: 0;position: absolute;width: 1px;}#sk-container-id-1 div.sk-estimator {font-family: monospace;background-color: #f0f8ff;border: 1px dotted black;border-radius: 0.25em;box-sizing: border-box;margin-bottom: 0.5em;}#sk-container-id-1 div.sk-estimator:hover {background-color: #d4ebff;}#sk-container-id-1 div.sk-parallel-item::after {content: \"\";width: 100%;border-bottom: 1px solid gray;flex-grow: 1;}#sk-container-id-1 div.sk-label:hover label.sk-toggleable__label {background-color: #d4ebff;}#sk-container-id-1 div.sk-serial::before {content: \"\";position: absolute;border-left: 1px solid gray;box-sizing: border-box;top: 0;bottom: 0;left: 50%;z-index: 0;}#sk-container-id-1 div.sk-serial {display: flex;flex-direction: column;align-items: center;background-color: white;padding-right: 0.2em;padding-left: 0.2em;position: relative;}#sk-container-id-1 div.sk-item {position: relative;z-index: 1;}#sk-container-id-1 div.sk-parallel {display: flex;align-items: stretch;justify-content: center;background-color: white;position: relative;}#sk-container-id-1 div.sk-item::before, #sk-container-id-1 div.sk-parallel-item::before {content: \"\";position: absolute;border-left: 1px solid gray;box-sizing: border-box;top: 0;bottom: 0;left: 50%;z-index: -1;}#sk-container-id-1 div.sk-parallel-item {display: flex;flex-direction: column;z-index: 1;position: relative;background-color: white;}#sk-container-id-1 div.sk-parallel-item:first-child::after {align-self: flex-end;width: 50%;}#sk-container-id-1 div.sk-parallel-item:last-child::after {align-self: flex-start;width: 50%;}#sk-container-id-1 div.sk-parallel-item:only-child::after {width: 0;}#sk-container-id-1 div.sk-dashed-wrapped {border: 1px dashed gray;margin: 0 0.4em 0.5em 0.4em;box-sizing: border-box;padding-bottom: 0.4em;background-color: white;}#sk-container-id-1 div.sk-label label {font-family: monospace;font-weight: bold;display: inline-block;line-height: 1.2em;}#sk-container-id-1 div.sk-label-container {text-align: center;}#sk-container-id-1 div.sk-container {/* jupyter's `normalize.less` sets `[hidden] { display: none; }` but bootstrap.min.css set `[hidden] { display: none !important; }` so we also need the `!important` here to be able to override the default hidden behavior on the sphinx rendered scikit-learn.org. See: https://github.com/scikit-learn/scikit-learn/issues/21755 */display: inline-block !important;position: relative;}#sk-container-id-1 div.sk-text-repr-fallback {display: none;}</style><div id=\"sk-container-id-1\" class=\"sk-top-container\"><div class=\"sk-text-repr-fallback\"><pre>ExtraTreesClassifier(n_estimators=250, n_jobs=-1, random_state=0)</pre><b>In a Jupyter environment, please rerun this cell to show the HTML representation or trust the notebook. <br />On GitHub, the HTML representation is unable to render, please try loading this page with nbviewer.org.</b></div><div class=\"sk-container\" hidden><div class=\"sk-item\"><div class=\"sk-estimator sk-toggleable\"><input class=\"sk-toggleable__control sk-hidden--visually\" id=\"sk-estimator-id-1\" type=\"checkbox\" checked><label for=\"sk-estimator-id-1\" class=\"sk-toggleable__label sk-toggleable__label-arrow\">ExtraTreesClassifier</label><div class=\"sk-toggleable__content\"><pre>ExtraTreesClassifier(n_estimators=250, n_jobs=-1, random_state=0)</pre></div></div></div></div></div>"
      ],
      "text/plain": [
       "ExtraTreesClassifier(n_estimators=250, n_jobs=-1, random_state=0)"
      ]
     },
     "execution_count": 69,
     "metadata": {},
     "output_type": "execute_result"
    }
   ],
   "source": [
    "# Model Definition\n",
    "forest = en.ExtraTreesClassifier( n_estimators=250, random_state=0, n_jobs=-1 )\n",
    "\n",
    "# Data Preparation\n",
    "x_train_n = df5.drop( ['id', 'response'], axis=1 )\n",
    "y_train_n = y_train.values\n",
    "forest.fit( x_train_n, y_train_n )"
   ]
  },
  {
   "cell_type": "code",
   "execution_count": 74,
   "id": "b48c5d7b",
   "metadata": {
    "ExecuteTime": {
     "end_time": "2022-11-07T21:22:48.469525Z",
     "start_time": "2022-11-07T21:22:47.672339Z"
    }
   },
   "outputs": [
    {
     "name": "stdout",
     "output_type": "stream",
     "text": [
      "Feature Ranking:\n",
      "                        feature  importance\n",
      "0                       vintage    0.272153\n",
      "0                annual_premium    0.245078\n",
      "0                           age    0.167813\n",
      "0                   region_code    0.104029\n",
      "0                vehicle_damage    0.071953\n",
      "0          policy_sales_channel    0.060395\n",
      "0            previously_insured    0.050700\n",
      "0      vehicle_age_below_1_year    0.014503\n",
      "0  vehicle_age_between_1_2_year    0.006279\n",
      "0                        gender    0.004656\n",
      "0      vehicle_age_over_2_years    0.001942\n",
      "0               driving_license    0.000498\n"
     ]
    },
    {
     "data": {
      "image/png": "[encoded data removed]",
      "text/plain": [
       "<Figure size 1080x504 with 1 Axes>"
      ]
     },
     "metadata": {},
     "output_type": "display_data"
    }
   ],
   "source": [
    "importances = forest.feature_importances_\n",
    "std = np.std( [tree.feature_importances_ for tree in forest.estimators_], axis=0 )\n",
    "indices = np.argsort( importances )[::-1]\n",
    "\n",
    "# Print de Feature Ranking\n",
    "print( 'Feature Ranking:' )\n",
    "df = pd.DataFrame()\n",
    "for i, j in zip( x_train_n, forest.feature_importances_ ):\n",
    "    aux = pd.DataFrame( { 'feature': i, 'importance': j }, index=[0] )\n",
    "    df = pd.concat( [df, aux], axis=0 )\n",
    "    \n",
    "print( df.sort_values( 'importance', ascending=False ) )\n",
    "\n",
    "# Plot the impurity-based feature importances of the forest\n",
    "plt.figure()\n",
    "plt.title( 'Feature Importances' )\n",
    "plt.bar( range( x_train_n.shape[1] ), importances[indices], color='r', yerr=std[indices], align='center' )\n",
    "plt.xticks( range( x_train_n.shape[1] ), indices )\n",
    "plt.xlim( [-1, x_train_n.shape[1]] )\n",
    "plt.show()"
   ]
  },
  {
   "cell_type": "markdown",
   "id": "eda73738",
   "metadata": {},
   "source": [
    "# 7.0 STEP 07 - MACHINE LEARNING MODELLING"
   ]
  },
  {
   "cell_type": "code",
   "execution_count": 75,
   "id": "f57968e7",
   "metadata": {
    "ExecuteTime": {
     "end_time": "2022-11-07T21:29:19.438311Z",
     "start_time": "2022-11-07T21:29:19.370098Z"
    }
   },
   "outputs": [],
   "source": [
    "cols_selected = [ 'vintage', 'annual_premium', 'age', 'region_code', 'vehicle_damage', 'policy_sales_channel', 'previously_insured' ]\n",
    "\n",
    "x_train = df5[ cols_selected ]\n",
    "x_val = x_val[ cols_selected ]"
   ]
  },
  {
   "cell_type": "markdown",
   "id": "1c00d96d",
   "metadata": {},
   "source": [
    "## 7.1 KNN"
   ]
  },
  {
   "cell_type": "code",
   "execution_count": 85,
   "id": "f32f4f0a",
   "metadata": {
    "ExecuteTime": {
     "end_time": "2022-11-07T22:07:22.873996Z",
     "start_time": "2022-11-07T22:07:14.651127Z"
    }
   },
   "outputs": [],
   "source": [
    "# Model Definition \n",
    "knn_model = nh.KNeighborsClassifier( n_neighbors=7 )\n",
    "\n",
    "# Model Training\n",
    "knn_model.fit( x_train, y_train )\n",
    "\n",
    "# Model Prediction \n",
    "yhat_knn = knn_model.predict_proba( x_val )"
   ]
  },
  {
   "cell_type": "code",
   "execution_count": 86,
   "id": "63932a9f",
   "metadata": {
    "ExecuteTime": {
     "end_time": "2022-11-07T22:07:23.093510Z",
     "start_time": "2022-11-07T22:07:22.876516Z"
    }
   },
   "outputs": [
    {
     "data": {
      "image/png": "[encoded data removed]",
      "text/plain": [
       "<Figure size 1080x504 with 1 Axes>"
      ]
     },
     "metadata": {},
     "output_type": "display_data"
    }
   ],
   "source": [
    "# Accumulative Gain\n",
    "skplt.metrics.plot_cumulative_gain( y_val, yhat_knn );"
   ]
  },
  {
   "cell_type": "markdown",
   "id": "29218b48",
   "metadata": {},
   "source": [
    "## 7.2 Logistic Regression"
   ]
  },
  {
   "cell_type": "code",
   "execution_count": 89,
   "id": "56c33de5",
   "metadata": {
    "ExecuteTime": {
     "end_time": "2022-11-07T22:23:45.196534Z",
     "start_time": "2022-11-07T22:23:44.290878Z"
    }
   },
   "outputs": [
    {
     "data": {
      "image/png": "[encoded data removed]",
      "text/plain": [
       "<Figure size 1080x504 with 1 Axes>"
      ]
     },
     "metadata": {},
     "output_type": "display_data"
    }
   ],
   "source": [
    "# Model Definition\n",
    "lr_model = lm.LogisticRegression( random_state=42 )\n",
    "\n",
    "# Model Training\n",
    "lr_model.fit( x_train, y_train )\n",
    "\n",
    "# Model Prediction\n",
    "yhat_lr = lr_model.predict_proba( x_val )\n",
    "\n",
    "# Accumulative Gain\n",
    "skplt.metrics.plot_cumulative_gain( y_val, yhat_lr );"
   ]
  },
  {
   "cell_type": "code",
   "execution_count": null,
   "id": "ed9108a7",
   "metadata": {},
   "outputs": [],
   "source": []
  },
  {
   "cell_type": "code",
   "execution_count": null,
   "id": "e852107f",
   "metadata": {},
   "outputs": [],
   "source": []
  },
  {
   "cell_type": "code",
   "execution_count": null,
   "id": "608b49dd",
   "metadata": {},
   "outputs": [],
   "source": []
  },
  {
   "cell_type": "code",
   "execution_count": null,
   "id": "8ec0530a",
   "metadata": {},
   "outputs": [],
   "source": []
  }
 ],
 "metadata": {
  "kernelspec": {
   "display_name": "pa004_cross_sell",
   "language": "python",
   "name": "pa004_cross_sell"
  },
  "language_info": {
   "codemirror_mode": {
    "name": "ipython",
    "version": 3
   },
   "file_extension": ".py",
   "mimetype": "text/x-python",
   "name": "python",
   "nbconvert_exporter": "python",
   "pygments_lexer": "ipython3",
   "version": "3.8.10"
  }
 },
 "nbformat": 4,
 "nbformat_minor": 5
}
