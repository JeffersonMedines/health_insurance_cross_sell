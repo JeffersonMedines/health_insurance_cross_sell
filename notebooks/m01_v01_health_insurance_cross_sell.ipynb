{
 "cells": [
  {
   "cell_type": "markdown",
   "id": "e1557e0d",
   "metadata": {},
   "source": [
    "# 0.0 IMPORTS"
   ]
  },
  {
   "cell_type": "code",
   "execution_count": 25,
   "id": "65566d39",
   "metadata": {
    "ExecuteTime": {
     "end_time": "2022-09-12T18:03:45.721417Z",
     "start_time": "2022-09-12T18:03:45.089242Z"
    }
   },
   "outputs": [],
   "source": [
    "import pandas as pd\n",
    "import numpy as np\n",
    "import seaborn as sns\n",
    "\n",
    "from matplotlib import pyplot as plt\n",
    "from tabulate import tabulate"
   ]
  },
  {
   "cell_type": "markdown",
   "id": "d0ef244d",
   "metadata": {},
   "source": [
    "## 0.1 Helper Functions"
   ]
  },
  {
   "cell_type": "code",
   "execution_count": null,
   "id": "0a8413a1",
   "metadata": {},
   "outputs": [],
   "source": []
  },
  {
   "cell_type": "markdown",
   "id": "161cf755",
   "metadata": {},
   "source": [
    "## 0.2 Load Data"
   ]
  },
  {
   "cell_type": "code",
   "execution_count": 2,
   "id": "51e548a3",
   "metadata": {
    "ExecuteTime": {
     "end_time": "2022-09-12T17:52:33.821330Z",
     "start_time": "2022-09-12T17:52:33.432024Z"
    }
   },
   "outputs": [],
   "source": [
    "df_raw = pd.read_csv( '/home/jeffsmedines/repos/pa4/health_insurance_cross_sell/data/raw/train.csv' )"
   ]
  },
  {
   "cell_type": "code",
   "execution_count": 3,
   "id": "d6e74fd8",
   "metadata": {
    "ExecuteTime": {
     "end_time": "2022-09-12T17:52:33.833515Z",
     "start_time": "2022-09-12T17:52:33.824300Z"
    }
   },
   "outputs": [
    {
     "data": {
      "text/plain": [
       "'/home/jeffsmedines/repos/pa4/health_insurance_cross_sell/notebooks'"
      ]
     },
     "execution_count": 3,
     "metadata": {},
     "output_type": "execute_result"
    }
   ],
   "source": [
    "pwd"
   ]
  },
  {
   "cell_type": "markdown",
   "id": "90061d6f",
   "metadata": {},
   "source": [
    "# 1.0 STEP 01 - DATA DESCRIPTION"
   ]
  },
  {
   "cell_type": "code",
   "execution_count": 4,
   "id": "79d92c44",
   "metadata": {
    "ExecuteTime": {
     "end_time": "2022-09-12T17:52:34.239989Z",
     "start_time": "2022-09-12T17:52:34.230801Z"
    }
   },
   "outputs": [],
   "source": [
    "df1 = df_raw.copy()"
   ]
  },
  {
   "cell_type": "markdown",
   "id": "294ddaa3",
   "metadata": {
    "hide_input": true
   },
   "source": [
    "## 1.1 Columns Description"
   ]
  },
  {
   "cell_type": "code",
   "execution_count": 5,
   "id": "c173a5c6",
   "metadata": {
    "ExecuteTime": {
     "end_time": "2022-09-12T17:52:34.888670Z",
     "start_time": "2022-09-12T17:52:34.881720Z"
    },
    "hide_input": true
   },
   "outputs": [
    {
     "name": "stdout",
     "output_type": "stream",
     "text": [
      "=====================  =========================================================================================================================\n",
      "Column                 Meaning\n",
      "=====================  =========================================================================================================================\n",
      "id                     unique customer identifier.\n",
      "gender                 client gender: Male / Female.\n",
      "age                    customer age.\n",
      "region_code            customer region code.\n",
      "policy_sales_channel   Anonymized Code for the channel of outreaching to the customer. Ie: Over Mail, Over Phone, In Person, etc..\n",
      "driving_license        0 = customer does not have DL, 1 = already have DL\n",
      "vehicle_age            vehicle age: < 1 Year, 1-2 Year, > 2 Years\n",
      "vehicle_damage         No = customer has never had their vehicle damaged in the past, Yes = has had it.\n",
      "vehicle_prev_insured   0 = customer does not have vehicle insurance, 1= already has vehicle insurance.\n",
      "health_annual_premium  annual amount paid by the customer to the company for health insurance. Currency: Rs(Pakistani rupee, R$1.00 = ± Rs0.03).\n",
      "days_associated        number of days since the customer joined the company by purchasing health insurance. The policy is annual.\n",
      "response               0 = customer is not interested, 1 = customer is interested.\n",
      "=====================  =========================================================================================================================\n"
     ]
    }
   ],
   "source": [
    "tab_meanings = [['Column', 'Meaning'],\n",
    "        ['id', 'unique customer identifier.'],\n",
    "        ['gender', 'client gender: Male / Female.'],\n",
    "        ['age', 'customer age.'],\n",
    "        ['region_code', 'customer region code.'],\n",
    "        ['policy_sales_channel', 'Anonymized Code for the channel of outreaching to the customer. Ie: Over Mail, Over Phone, In Person, etc..'],\n",
    "        ['driving_license', '0 = customer does not have DL, 1 = already have DL'],\n",
    "        ['vehicle_age', 'vehicle age: < 1 Year, 1-2 Year, > 2 Years'],\n",
    "        ['vehicle_damage', 'No = customer has never had their vehicle damaged in the past, Yes = has had it.'],\n",
    "        ['vehicle_prev_insured', '0 = customer does not have vehicle insurance, 1= already has vehicle insurance.'],\n",
    "        ['health_annual_premium', 'annual amount paid by the customer to the company for health insurance. Currency: Rs(Pakistani rupee, R$1.00 = ± Rs0.03).'],\n",
    "        ['days_associated', 'number of days since the customer joined the company by purchasing health insurance. The policy is annual.'],\n",
    "        ['response', '0 = customer is not interested, 1 = customer is interested.']\n",
    "      ]\n",
    "print(tabulate(tab_meanings, headers='firstrow', stralign='left', tablefmt='rst'))"
   ]
  },
  {
   "cell_type": "markdown",
   "id": "cc2b0546",
   "metadata": {},
   "source": [
    "## 1.2 Data Dimensions"
   ]
  },
  {
   "cell_type": "code",
   "execution_count": 6,
   "id": "fb261947",
   "metadata": {
    "ExecuteTime": {
     "end_time": "2022-09-12T17:52:35.610001Z",
     "start_time": "2022-09-12T17:52:35.605833Z"
    }
   },
   "outputs": [
    {
     "name": "stdout",
     "output_type": "stream",
     "text": [
      "Number of Rows: 381109\n",
      "Number of Cols: 14\n"
     ]
    }
   ],
   "source": [
    "print( f'Number of Rows: {df1.shape[0]}' )\n",
    "print( f'Number of Cols: {df1.shape[1]}' )"
   ]
  },
  {
   "cell_type": "markdown",
   "id": "aa276b86",
   "metadata": {},
   "source": [
    "## 1.3 Data Types"
   ]
  },
  {
   "cell_type": "code",
   "execution_count": 7,
   "id": "138a351f",
   "metadata": {
    "ExecuteTime": {
     "end_time": "2022-09-12T17:52:36.267459Z",
     "start_time": "2022-09-12T17:52:36.256070Z"
    }
   },
   "outputs": [
    {
     "data": {
      "text/plain": [
       "id                        int64\n",
       "previously_insured        int64\n",
       "annual_premium          float64\n",
       "vintage                   int64\n",
       "response                  int64\n",
       "id.1                      int64\n",
       "gender                   object\n",
       "age                       int64\n",
       "region_code             float64\n",
       "policy_sales_channel    float64\n",
       "id.2                      int64\n",
       "driving_license           int64\n",
       "vehicle_age              object\n",
       "vehicle_damage           object\n",
       "dtype: object"
      ]
     },
     "execution_count": 7,
     "metadata": {},
     "output_type": "execute_result"
    }
   ],
   "source": [
    "df1.dtypes"
   ]
  },
  {
   "cell_type": "markdown",
   "id": "ba08d4f4",
   "metadata": {},
   "source": [
    "## 1.4 Check NA's"
   ]
  },
  {
   "cell_type": "code",
   "execution_count": 8,
   "id": "1105babc",
   "metadata": {
    "ExecuteTime": {
     "end_time": "2022-09-12T17:52:37.037806Z",
     "start_time": "2022-09-12T17:52:36.906272Z"
    }
   },
   "outputs": [
    {
     "data": {
      "text/plain": [
       "id                      0\n",
       "previously_insured      0\n",
       "annual_premium          0\n",
       "vintage                 0\n",
       "response                0\n",
       "id.1                    0\n",
       "gender                  0\n",
       "age                     0\n",
       "region_code             0\n",
       "policy_sales_channel    0\n",
       "id.2                    0\n",
       "driving_license         0\n",
       "vehicle_age             0\n",
       "vehicle_damage          0\n",
       "dtype: int64"
      ]
     },
     "execution_count": 8,
     "metadata": {},
     "output_type": "execute_result"
    }
   ],
   "source": [
    "df1.isna().sum()"
   ]
  },
  {
   "cell_type": "markdown",
   "id": "725ade74",
   "metadata": {},
   "source": [
    "## 1.5 Fill NA's"
   ]
  },
  {
   "cell_type": "code",
   "execution_count": 9,
   "id": "949589db",
   "metadata": {
    "ExecuteTime": {
     "end_time": "2022-09-12T17:52:37.459641Z",
     "start_time": "2022-09-12T17:52:37.456719Z"
    }
   },
   "outputs": [],
   "source": [
    "# Not Necessary"
   ]
  },
  {
   "cell_type": "markdown",
   "id": "b345ac59",
   "metadata": {},
   "source": [
    "## 1.6 Change Types"
   ]
  },
  {
   "cell_type": "code",
   "execution_count": 10,
   "id": "a57da6e7",
   "metadata": {
    "ExecuteTime": {
     "end_time": "2022-09-12T17:52:38.030178Z",
     "start_time": "2022-09-12T17:52:38.019588Z"
    }
   },
   "outputs": [],
   "source": [
    "df1['region_code'] = df1['region_code'].astype( int )"
   ]
  },
  {
   "cell_type": "code",
   "execution_count": 11,
   "id": "c14f253e",
   "metadata": {
    "ExecuteTime": {
     "end_time": "2022-09-12T17:52:38.336292Z",
     "start_time": "2022-09-12T17:52:38.331906Z"
    }
   },
   "outputs": [
    {
     "data": {
      "text/plain": [
       "dtype('int64')"
      ]
     },
     "execution_count": 11,
     "metadata": {},
     "output_type": "execute_result"
    }
   ],
   "source": [
    "# Check Change\n",
    "df1['region_code'].dtypes"
   ]
  },
  {
   "cell_type": "markdown",
   "id": "4e0a6acd",
   "metadata": {},
   "source": [
    "## 1.7 Drop Columns"
   ]
  },
  {
   "cell_type": "code",
   "execution_count": 12,
   "id": "69aa8c72",
   "metadata": {
    "ExecuteTime": {
     "end_time": "2022-09-12T17:52:38.889910Z",
     "start_time": "2022-09-12T17:52:38.855659Z"
    }
   },
   "outputs": [],
   "source": [
    "df1 = df1.drop( columns=['id.1', 'id.2'] )"
   ]
  },
  {
   "cell_type": "markdown",
   "id": "c5b3112a",
   "metadata": {},
   "source": [
    "## 1.8 Descriptive Statistics"
   ]
  },
  {
   "cell_type": "code",
   "execution_count": 13,
   "id": "183df9dc",
   "metadata": {
    "ExecuteTime": {
     "end_time": "2022-09-12T17:52:39.485212Z",
     "start_time": "2022-09-12T17:52:39.481441Z"
    }
   },
   "outputs": [],
   "source": [
    "num_attributes = df1.select_dtypes( include=['int64', np.float64] )\n",
    "cat_attributes = df1.select_dtypes( exclude=['int64', np.float64] )"
   ]
  },
  {
   "cell_type": "markdown",
   "id": "41309ff1",
   "metadata": {},
   "source": [
    "### 1.8.1 Numerical Attributes"
   ]
  },
  {
   "cell_type": "code",
   "execution_count": 14,
   "id": "a1673c6e",
   "metadata": {
    "ExecuteTime": {
     "end_time": "2022-09-12T17:52:40.710437Z",
     "start_time": "2022-09-12T17:52:40.105270Z"
    }
   },
   "outputs": [],
   "source": [
    "# Central Tendency - Mean, Median\n",
    "ct1 = pd.DataFrame( num_attributes.apply( np.mean ) ).T\n",
    "ct2 = pd.DataFrame( num_attributes.apply( np.median ) ).T\n",
    "\n",
    "# Dispersion - Std, min, max, range, skewness, kurtosis\n",
    "d1 = pd.DataFrame( num_attributes.apply( np.std ) ).T\n",
    "d2 = pd.DataFrame( num_attributes.apply( min ) ).T\n",
    "d3 = pd.DataFrame( num_attributes.apply( max ) ).T\n",
    "d4 = pd.DataFrame( num_attributes.apply( lambda x: x.max() - x.min() ) ).T\n",
    "d5 = pd.DataFrame( num_attributes.apply( lambda x: x.skew() ) ).T\n",
    "d6 = pd.DataFrame( num_attributes.apply( lambda x: x.kurtosis() ) ).T\n",
    "\n",
    "# Concatenate\n",
    "m = pd.concat( [d2, d3, d4, ct1, ct2, d1, d5, d6] ).T.reset_index()\n",
    "m.columns = ['attributes', 'min', 'max', 'range', 'mean', 'median', 'std', 'skew', 'kurtosis']"
   ]
  },
  {
   "cell_type": "code",
   "execution_count": 20,
   "id": "9713af29",
   "metadata": {
    "ExecuteTime": {
     "end_time": "2022-09-12T17:56:26.130487Z",
     "start_time": "2022-09-12T17:56:26.117967Z"
    },
    "scrolled": true
   },
   "outputs": [
    {
     "data": {
      "text/html": [
       "<div>\n",
       "<style scoped>\n",
       "    .dataframe tbody tr th:only-of-type {\n",
       "        vertical-align: middle;\n",
       "    }\n",
       "\n",
       "    .dataframe tbody tr th {\n",
       "        vertical-align: top;\n",
       "    }\n",
       "\n",
       "    .dataframe thead th {\n",
       "        text-align: right;\n",
       "    }\n",
       "</style>\n",
       "<table border=\"1\" class=\"dataframe\">\n",
       "  <thead>\n",
       "    <tr style=\"text-align: right;\">\n",
       "      <th></th>\n",
       "      <th>attributes</th>\n",
       "      <th>min</th>\n",
       "      <th>max</th>\n",
       "      <th>range</th>\n",
       "      <th>mean</th>\n",
       "      <th>median</th>\n",
       "      <th>std</th>\n",
       "      <th>skew</th>\n",
       "      <th>kurtosis</th>\n",
       "    </tr>\n",
       "  </thead>\n",
       "  <tbody>\n",
       "    <tr>\n",
       "      <th>0</th>\n",
       "      <td>id</td>\n",
       "      <td>1.0</td>\n",
       "      <td>381109.0</td>\n",
       "      <td>381108.0</td>\n",
       "      <td>190555.000000</td>\n",
       "      <td>190555.0</td>\n",
       "      <td>110016.691870</td>\n",
       "      <td>-8.071174e-18</td>\n",
       "      <td>-1.200000</td>\n",
       "    </tr>\n",
       "    <tr>\n",
       "      <th>1</th>\n",
       "      <td>previously_insured</td>\n",
       "      <td>0.0</td>\n",
       "      <td>1.0</td>\n",
       "      <td>1.0</td>\n",
       "      <td>0.458210</td>\n",
       "      <td>0.0</td>\n",
       "      <td>0.498251</td>\n",
       "      <td>1.677471e-01</td>\n",
       "      <td>-1.971871</td>\n",
       "    </tr>\n",
       "    <tr>\n",
       "      <th>2</th>\n",
       "      <td>annual_premium</td>\n",
       "      <td>2630.0</td>\n",
       "      <td>540165.0</td>\n",
       "      <td>537535.0</td>\n",
       "      <td>30564.389581</td>\n",
       "      <td>31669.0</td>\n",
       "      <td>17213.132474</td>\n",
       "      <td>1.766087e+00</td>\n",
       "      <td>34.004569</td>\n",
       "    </tr>\n",
       "    <tr>\n",
       "      <th>3</th>\n",
       "      <td>vintage</td>\n",
       "      <td>10.0</td>\n",
       "      <td>299.0</td>\n",
       "      <td>289.0</td>\n",
       "      <td>154.347397</td>\n",
       "      <td>154.0</td>\n",
       "      <td>83.671194</td>\n",
       "      <td>3.029517e-03</td>\n",
       "      <td>-1.200688</td>\n",
       "    </tr>\n",
       "    <tr>\n",
       "      <th>4</th>\n",
       "      <td>response</td>\n",
       "      <td>0.0</td>\n",
       "      <td>1.0</td>\n",
       "      <td>1.0</td>\n",
       "      <td>0.122563</td>\n",
       "      <td>0.0</td>\n",
       "      <td>0.327935</td>\n",
       "      <td>2.301906e+00</td>\n",
       "      <td>3.298788</td>\n",
       "    </tr>\n",
       "    <tr>\n",
       "      <th>5</th>\n",
       "      <td>age</td>\n",
       "      <td>20.0</td>\n",
       "      <td>85.0</td>\n",
       "      <td>65.0</td>\n",
       "      <td>38.822584</td>\n",
       "      <td>36.0</td>\n",
       "      <td>15.511591</td>\n",
       "      <td>6.725390e-01</td>\n",
       "      <td>-0.565655</td>\n",
       "    </tr>\n",
       "    <tr>\n",
       "      <th>6</th>\n",
       "      <td>region_code</td>\n",
       "      <td>0.0</td>\n",
       "      <td>52.0</td>\n",
       "      <td>52.0</td>\n",
       "      <td>26.388807</td>\n",
       "      <td>28.0</td>\n",
       "      <td>13.229871</td>\n",
       "      <td>-1.152664e-01</td>\n",
       "      <td>-0.867857</td>\n",
       "    </tr>\n",
       "    <tr>\n",
       "      <th>7</th>\n",
       "      <td>policy_sales_channel</td>\n",
       "      <td>1.0</td>\n",
       "      <td>163.0</td>\n",
       "      <td>162.0</td>\n",
       "      <td>112.034295</td>\n",
       "      <td>133.0</td>\n",
       "      <td>54.203924</td>\n",
       "      <td>-9.000081e-01</td>\n",
       "      <td>-0.970810</td>\n",
       "    </tr>\n",
       "    <tr>\n",
       "      <th>8</th>\n",
       "      <td>driving_license</td>\n",
       "      <td>0.0</td>\n",
       "      <td>1.0</td>\n",
       "      <td>1.0</td>\n",
       "      <td>0.997869</td>\n",
       "      <td>1.0</td>\n",
       "      <td>0.046109</td>\n",
       "      <td>-2.159518e+01</td>\n",
       "      <td>464.354302</td>\n",
       "    </tr>\n",
       "  </tbody>\n",
       "</table>\n",
       "</div>"
      ],
      "text/plain": [
       "             attributes     min       max     range           mean    median  \\\n",
       "0                    id     1.0  381109.0  381108.0  190555.000000  190555.0   \n",
       "1    previously_insured     0.0       1.0       1.0       0.458210       0.0   \n",
       "2        annual_premium  2630.0  540165.0  537535.0   30564.389581   31669.0   \n",
       "3               vintage    10.0     299.0     289.0     154.347397     154.0   \n",
       "4              response     0.0       1.0       1.0       0.122563       0.0   \n",
       "5                   age    20.0      85.0      65.0      38.822584      36.0   \n",
       "6           region_code     0.0      52.0      52.0      26.388807      28.0   \n",
       "7  policy_sales_channel     1.0     163.0     162.0     112.034295     133.0   \n",
       "8       driving_license     0.0       1.0       1.0       0.997869       1.0   \n",
       "\n",
       "             std          skew    kurtosis  \n",
       "0  110016.691870 -8.071174e-18   -1.200000  \n",
       "1       0.498251  1.677471e-01   -1.971871  \n",
       "2   17213.132474  1.766087e+00   34.004569  \n",
       "3      83.671194  3.029517e-03   -1.200688  \n",
       "4       0.327935  2.301906e+00    3.298788  \n",
       "5      15.511591  6.725390e-01   -0.565655  \n",
       "6      13.229871 -1.152664e-01   -0.867857  \n",
       "7      54.203924 -9.000081e-01   -0.970810  \n",
       "8       0.046109 -2.159518e+01  464.354302  "
      ]
     },
     "execution_count": 20,
     "metadata": {},
     "output_type": "execute_result"
    }
   ],
   "source": [
    "m"
   ]
  },
  {
   "cell_type": "markdown",
   "id": "69b80971",
   "metadata": {},
   "source": [
    "### 1.8.2 Categorical Attributes"
   ]
  },
  {
   "cell_type": "code",
   "execution_count": 50,
   "id": "5b59343a",
   "metadata": {
    "ExecuteTime": {
     "end_time": "2022-09-06T20:04:05.025335Z",
     "start_time": "2022-09-06T20:04:04.978893Z"
    }
   },
   "outputs": [
    {
     "data": {
      "text/plain": [
       "gender            2\n",
       "vehicle_age       3\n",
       "vehicle_damage    2\n",
       "dtype: int64"
      ]
     },
     "execution_count": 50,
     "metadata": {},
     "output_type": "execute_result"
    }
   ],
   "source": [
    "cat_attributes.apply( lambda x: x.unique().shape[0] )"
   ]
  },
  {
   "cell_type": "code",
   "execution_count": 96,
   "id": "e6fcfb60",
   "metadata": {
    "ExecuteTime": {
     "end_time": "2022-09-12T19:22:18.673247Z",
     "start_time": "2022-09-12T19:22:18.239065Z"
    }
   },
   "outputs": [
    {
     "data": {
      "text/plain": [
       "<AxesSubplot:xlabel='vehicle_age', ylabel='id'>"
      ]
     },
     "execution_count": 96,
     "metadata": {},
     "output_type": "execute_result"
    },
    {
     "data": {
      "image/png": "[encoded data removed]",
      "text/plain": [
       "<Figure size 1152x432 with 3 Axes>"
      ]
     },
     "metadata": {
      "needs_background": "light"
     },
     "output_type": "display_data"
    }
   ],
   "source": [
    "aux = df1.copy()\n",
    "\n",
    "plt.figure( figsize=(16, 6) )\n",
    "\n",
    "# Graph 1 - Gender\n",
    "plt.subplot( 131 )\n",
    "aux1 = aux[['gender', 'response', 'id']].groupby( ['gender', 'response'] ).count().reset_index()\n",
    "sns.barplot( x='gender', y='id', hue='response', data=aux1 )\n",
    "\n",
    "\n",
    "# Graph 2 - Vehicle Damage\n",
    "plt.subplot( 132 )\n",
    "aux1 = aux[['vehicle_damage', 'response', 'id']].groupby( ['vehicle_damage', 'response'] ).count().reset_index()\n",
    "sns.barplot( x='vehicle_damage', y='id', hue='response', data=aux1 )\n",
    "\n",
    "\n",
    "# Graph 3 - Vehicle Age\n",
    "plt.subplot( 133 )\n",
    "aux1 = aux[['vehicle_age', 'response', 'id']].groupby( ['vehicle_age', 'response'] ).count().reset_index()\n",
    "sns.barplot( x='vehicle_age', y='id', hue='response', data=aux1 )"
   ]
  },
  {
   "cell_type": "markdown",
   "id": "442b754b",
   "metadata": {
    "heading_collapsed": true
   },
   "source": [
    "# 2.0 STEP 02 - FEATURE ENGINEERING"
   ]
  },
  {
   "cell_type": "code",
   "execution_count": null,
   "id": "61715daf",
   "metadata": {
    "hidden": true
   },
   "outputs": [],
   "source": []
  },
  {
   "cell_type": "code",
   "execution_count": null,
   "id": "6983b2fc",
   "metadata": {
    "hidden": true
   },
   "outputs": [],
   "source": []
  },
  {
   "cell_type": "code",
   "execution_count": null,
   "id": "74c77782",
   "metadata": {
    "hidden": true
   },
   "outputs": [],
   "source": []
  },
  {
   "cell_type": "code",
   "execution_count": null,
   "id": "a60a631b",
   "metadata": {
    "hidden": true
   },
   "outputs": [],
   "source": []
  },
  {
   "cell_type": "code",
   "execution_count": null,
   "id": "ea9e4be9",
   "metadata": {
    "hidden": true
   },
   "outputs": [],
   "source": []
  },
  {
   "cell_type": "code",
   "execution_count": null,
   "id": "451ac7cd",
   "metadata": {
    "hidden": true
   },
   "outputs": [],
   "source": []
  },
  {
   "cell_type": "code",
   "execution_count": null,
   "id": "e57fe8cb",
   "metadata": {
    "hidden": true
   },
   "outputs": [],
   "source": []
  },
  {
   "cell_type": "markdown",
   "id": "183debd8",
   "metadata": {},
   "source": [
    "# 3.0 STEP 03 - DATA FILTERING"
   ]
  },
  {
   "cell_type": "markdown",
   "id": "933dde65",
   "metadata": {},
   "source": [
    "# 4.0 STEP 04 - EXPLORATORY DATA ANALYSIS"
   ]
  },
  {
   "cell_type": "markdown",
   "id": "c0999d73",
   "metadata": {},
   "source": [
    "# 5.0 STEP 05 - FEATURE SELECTION"
   ]
  },
  {
   "cell_type": "markdown",
   "id": "7bc56ba5",
   "metadata": {},
   "source": [
    "# 6.0 STEP 06 - DATA PREPARATION"
   ]
  },
  {
   "cell_type": "markdown",
   "id": "eda73738",
   "metadata": {},
   "source": [
    "# 7.0 STEP 07 - MACHINE LEARNING MODELLING"
   ]
  },
  {
   "cell_type": "code",
   "execution_count": null,
   "id": "f57968e7",
   "metadata": {},
   "outputs": [],
   "source": []
  },
  {
   "cell_type": "code",
   "execution_count": null,
   "id": "56c33de5",
   "metadata": {},
   "outputs": [],
   "source": []
  }
 ],
 "metadata": {
  "kernelspec": {
   "display_name": "pa004_cross_sell",
   "language": "python",
   "name": "pa004_cross_sell"
  },
  "language_info": {
   "codemirror_mode": {
    "name": "ipython",
    "version": 3
   },
   "file_extension": ".py",
   "mimetype": "text/x-python",
   "name": "python",
   "nbconvert_exporter": "python",
   "pygments_lexer": "ipython3",
   "version": "3.8.10"
  }
 },
 "nbformat": 4,
 "nbformat_minor": 5
}
