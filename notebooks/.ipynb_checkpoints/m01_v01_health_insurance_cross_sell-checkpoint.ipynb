{
 "cells": [
  {
   "cell_type": "markdown",
   "id": "e1557e0d",
   "metadata": {},
   "source": [
    "# 0.0 IMPORTS"
   ]
  },
  {
   "cell_type": "code",
   "execution_count": 1,
   "id": "65566d39",
   "metadata": {
    "ExecuteTime": {
     "end_time": "2022-10-15T12:54:13.802917Z",
     "start_time": "2022-10-15T12:54:12.189727Z"
    }
   },
   "outputs": [],
   "source": [
    "import pandas as pd\n",
    "import numpy as np\n",
    "import seaborn as sns\n",
    "\n",
    "from matplotlib import pyplot as plt\n",
    "import matplotlib.patches as mpatches\n",
    "from tabulate import tabulate"
   ]
  },
  {
   "cell_type": "markdown",
   "id": "d0ef244d",
   "metadata": {},
   "source": [
    "## 0.1 Helper Functions"
   ]
  },
  {
   "cell_type": "code",
   "execution_count": 2,
   "id": "0a8413a1",
   "metadata": {
    "ExecuteTime": {
     "end_time": "2022-10-15T12:54:13.831895Z",
     "start_time": "2022-10-15T12:54:13.805089Z"
    }
   },
   "outputs": [
    {
     "name": "stdout",
     "output_type": "stream",
     "text": [
      "%pylab is deprecated, use %matplotlib inline and import the required libraries.\n",
      "Populating the interactive namespace from numpy and matplotlib\n"
     ]
    }
   ],
   "source": [
    "def jupyter_settings():\n",
    "    %matplotlib inline\n",
    "    %pylab inline\n",
    "    plt.style.use( 'bmh' )\n",
    "    plt.rcParams['figure.figsize'] = [20, 15]\n",
    "    plt.rcParams['font.size'] = 30\n",
    "    \n",
    "    pd.options.display.max_columns = None\n",
    "    pd.options.display.max_rows = None\n",
    "    pd.set_option( 'display.expand_frame_repr', False )\n",
    "    \n",
    "    sns.set()\n",
    "    \n",
    "jupyter_settings()"
   ]
  },
  {
   "cell_type": "markdown",
   "id": "161cf755",
   "metadata": {},
   "source": [
    "## 0.2 Load Data"
   ]
  },
  {
   "cell_type": "code",
   "execution_count": 3,
   "id": "51e548a3",
   "metadata": {
    "ExecuteTime": {
     "end_time": "2022-10-15T12:54:14.210205Z",
     "start_time": "2022-10-15T12:54:13.834382Z"
    }
   },
   "outputs": [],
   "source": [
    "df_raw = pd.read_csv( '/home/jeffsmedines/repos/pa4/health_insurance_cross_sell/data/raw/train.csv' )"
   ]
  },
  {
   "cell_type": "code",
   "execution_count": 4,
   "id": "d6e74fd8",
   "metadata": {
    "ExecuteTime": {
     "end_time": "2022-10-15T12:54:14.218424Z",
     "start_time": "2022-10-15T12:54:14.212738Z"
    }
   },
   "outputs": [
    {
     "data": {
      "text/plain": [
       "'/home/jeffsmedines/repos/pa4/health_insurance_cross_sell/notebooks'"
      ]
     },
     "execution_count": 4,
     "metadata": {},
     "output_type": "execute_result"
    }
   ],
   "source": [
    "pwd"
   ]
  },
  {
   "cell_type": "markdown",
   "id": "90061d6f",
   "metadata": {
    "heading_collapsed": true
   },
   "source": [
    "# 1.0 STEP 01 - DATA DESCRIPTION"
   ]
  },
  {
   "cell_type": "code",
   "execution_count": 5,
   "id": "79d92c44",
   "metadata": {
    "ExecuteTime": {
     "end_time": "2022-10-15T12:54:14.235429Z",
     "start_time": "2022-10-15T12:54:14.220160Z"
    },
    "hidden": true
   },
   "outputs": [],
   "source": [
    "df1 = df_raw.copy()"
   ]
  },
  {
   "cell_type": "markdown",
   "id": "294ddaa3",
   "metadata": {
    "hidden": true,
    "hide_input": true
   },
   "source": [
    "## 1.1 Columns Description"
   ]
  },
  {
   "cell_type": "code",
   "execution_count": 6,
   "id": "c173a5c6",
   "metadata": {
    "ExecuteTime": {
     "end_time": "2022-10-15T12:54:14.245385Z",
     "start_time": "2022-10-15T12:54:14.237462Z"
    },
    "hidden": true,
    "hide_input": true
   },
   "outputs": [
    {
     "name": "stdout",
     "output_type": "stream",
     "text": [
      "=====================  =========================================================================================================================\n",
      "Column                 Meaning\n",
      "=====================  =========================================================================================================================\n",
      "id                     unique customer identifier.\n",
      "gender                 client gender: Male / Female.\n",
      "age                    customer age.\n",
      "region_code            customer region code.\n",
      "policy_sales_channel   Anonymized Code for the channel of outreaching to the customer. Ie: Over Mail, Over Phone, In Person, etc..\n",
      "driving_license        0 = customer does not have DL, 1 = already have DL\n",
      "vehicle_age            vehicle age: < 1 Year, 1-2 Year, > 2 Years\n",
      "vehicle_damage         No = customer has never had their vehicle damaged in the past, Yes = has had it.\n",
      "vehicle_prev_insured   0 = customer does not have vehicle insurance, 1= already has vehicle insurance.\n",
      "health_annual_premium  annual amount paid by the customer to the company for health insurance. Currency: Rs(Pakistani rupee, R$1.00 = ± Rs0.03).\n",
      "days_associated        number of days since the customer joined the company by purchasing health insurance. The policy is annual.\n",
      "response               0 = customer is not interested, 1 = customer is interested.\n",
      "=====================  =========================================================================================================================\n"
     ]
    }
   ],
   "source": [
    "tab_meanings = [['Column', 'Meaning'],\n",
    "        ['id', 'unique customer identifier.'],\n",
    "        ['gender', 'client gender: Male / Female.'],\n",
    "        ['age', 'customer age.'],\n",
    "        ['region_code', 'customer region code.'],\n",
    "        ['policy_sales_channel', 'Anonymized Code for the channel of outreaching to the customer. Ie: Over Mail, Over Phone, In Person, etc..'],\n",
    "        ['driving_license', '0 = customer does not have DL, 1 = already have DL'],\n",
    "        ['vehicle_age', 'vehicle age: < 1 Year, 1-2 Year, > 2 Years'],\n",
    "        ['vehicle_damage', 'No = customer has never had their vehicle damaged in the past, Yes = has had it.'],\n",
    "        ['vehicle_prev_insured', '0 = customer does not have vehicle insurance, 1= already has vehicle insurance.'],\n",
    "        ['health_annual_premium', 'annual amount paid by the customer to the company for health insurance. Currency: Rs(Pakistani rupee, R$1.00 = ± Rs0.03).'],\n",
    "        ['days_associated', 'number of days since the customer joined the company by purchasing health insurance. The policy is annual.'],\n",
    "        ['response', '0 = customer is not interested, 1 = customer is interested.']\n",
    "      ]\n",
    "print(tabulate(tab_meanings, headers='firstrow', stralign='left', tablefmt='rst'))"
   ]
  },
  {
   "cell_type": "markdown",
   "id": "cc2b0546",
   "metadata": {
    "hidden": true
   },
   "source": [
    "## 1.2 Data Dimensions"
   ]
  },
  {
   "cell_type": "code",
   "execution_count": 7,
   "id": "fb261947",
   "metadata": {
    "ExecuteTime": {
     "end_time": "2022-10-15T12:54:14.259389Z",
     "start_time": "2022-10-15T12:54:14.247265Z"
    },
    "hidden": true
   },
   "outputs": [
    {
     "name": "stdout",
     "output_type": "stream",
     "text": [
      "Number of Rows: 381109\n",
      "Number of Cols: 14\n"
     ]
    }
   ],
   "source": [
    "print( f'Number of Rows: {df1.shape[0]}' )\n",
    "print( f'Number of Cols: {df1.shape[1]}' )"
   ]
  },
  {
   "cell_type": "markdown",
   "id": "aa276b86",
   "metadata": {
    "hidden": true
   },
   "source": [
    "## 1.3 Data Types"
   ]
  },
  {
   "cell_type": "code",
   "execution_count": 8,
   "id": "138a351f",
   "metadata": {
    "ExecuteTime": {
     "end_time": "2022-10-15T12:54:14.275969Z",
     "start_time": "2022-10-15T12:54:14.261356Z"
    },
    "hidden": true
   },
   "outputs": [
    {
     "data": {
      "text/plain": [
       "id                        int64\n",
       "previously_insured        int64\n",
       "annual_premium          float64\n",
       "vintage                   int64\n",
       "response                  int64\n",
       "id.1                      int64\n",
       "gender                   object\n",
       "age                       int64\n",
       "region_code             float64\n",
       "policy_sales_channel    float64\n",
       "id.2                      int64\n",
       "driving_license           int64\n",
       "vehicle_age              object\n",
       "vehicle_damage           object\n",
       "dtype: object"
      ]
     },
     "execution_count": 8,
     "metadata": {},
     "output_type": "execute_result"
    }
   ],
   "source": [
    "df1.dtypes"
   ]
  },
  {
   "cell_type": "markdown",
   "id": "ba08d4f4",
   "metadata": {
    "hidden": true
   },
   "source": [
    "## 1.4 Check NA's"
   ]
  },
  {
   "cell_type": "code",
   "execution_count": 9,
   "id": "1105babc",
   "metadata": {
    "ExecuteTime": {
     "end_time": "2022-10-15T12:54:14.411334Z",
     "start_time": "2022-10-15T12:54:14.277699Z"
    },
    "hidden": true
   },
   "outputs": [
    {
     "data": {
      "text/plain": [
       "id                      0\n",
       "previously_insured      0\n",
       "annual_premium          0\n",
       "vintage                 0\n",
       "response                0\n",
       "id.1                    0\n",
       "gender                  0\n",
       "age                     0\n",
       "region_code             0\n",
       "policy_sales_channel    0\n",
       "id.2                    0\n",
       "driving_license         0\n",
       "vehicle_age             0\n",
       "vehicle_damage          0\n",
       "dtype: int64"
      ]
     },
     "execution_count": 9,
     "metadata": {},
     "output_type": "execute_result"
    }
   ],
   "source": [
    "df1.isna().sum()"
   ]
  },
  {
   "cell_type": "markdown",
   "id": "725ade74",
   "metadata": {
    "hidden": true
   },
   "source": [
    "## 1.5 Fill NA's"
   ]
  },
  {
   "cell_type": "code",
   "execution_count": 10,
   "id": "949589db",
   "metadata": {
    "ExecuteTime": {
     "end_time": "2022-10-15T12:54:14.417518Z",
     "start_time": "2022-10-15T12:54:14.414988Z"
    },
    "hidden": true
   },
   "outputs": [],
   "source": [
    "# Not Necessary"
   ]
  },
  {
   "cell_type": "markdown",
   "id": "b345ac59",
   "metadata": {
    "hidden": true
   },
   "source": [
    "## 1.6 Change Types"
   ]
  },
  {
   "cell_type": "code",
   "execution_count": 11,
   "id": "a57da6e7",
   "metadata": {
    "ExecuteTime": {
     "end_time": "2022-10-15T12:54:14.427242Z",
     "start_time": "2022-10-15T12:54:14.419584Z"
    },
    "hidden": true
   },
   "outputs": [],
   "source": [
    "df1['region_code'] = df1['region_code'].astype( int )"
   ]
  },
  {
   "cell_type": "code",
   "execution_count": 12,
   "id": "c14f253e",
   "metadata": {
    "ExecuteTime": {
     "end_time": "2022-10-15T12:54:14.433279Z",
     "start_time": "2022-10-15T12:54:14.429261Z"
    },
    "hidden": true
   },
   "outputs": [
    {
     "data": {
      "text/plain": [
       "dtype('int64')"
      ]
     },
     "execution_count": 12,
     "metadata": {},
     "output_type": "execute_result"
    }
   ],
   "source": [
    "# Check Change\n",
    "df1['region_code'].dtypes"
   ]
  },
  {
   "cell_type": "markdown",
   "id": "4e0a6acd",
   "metadata": {
    "hidden": true
   },
   "source": [
    "## 1.7 Drop Columns"
   ]
  },
  {
   "cell_type": "code",
   "execution_count": 13,
   "id": "69aa8c72",
   "metadata": {
    "ExecuteTime": {
     "end_time": "2022-10-15T12:54:14.465581Z",
     "start_time": "2022-10-15T12:54:14.435683Z"
    },
    "hidden": true
   },
   "outputs": [],
   "source": [
    "df1 = df1.drop( columns=['id.1', 'id.2'] )"
   ]
  },
  {
   "cell_type": "markdown",
   "id": "c5b3112a",
   "metadata": {
    "hidden": true
   },
   "source": [
    "## 1.8 Descriptive Statistics"
   ]
  },
  {
   "cell_type": "code",
   "execution_count": 14,
   "id": "183df9dc",
   "metadata": {
    "ExecuteTime": {
     "end_time": "2022-10-15T12:54:14.472204Z",
     "start_time": "2022-10-15T12:54:14.468378Z"
    },
    "hidden": true
   },
   "outputs": [],
   "source": [
    "num_attributes = df1.select_dtypes( include=['int64', np.float64] )\n",
    "cat_attributes = df1.select_dtypes( exclude=['int64', np.float64] )"
   ]
  },
  {
   "cell_type": "markdown",
   "id": "41309ff1",
   "metadata": {
    "hidden": true
   },
   "source": [
    "### 1.8.1 Numerical Attributes"
   ]
  },
  {
   "cell_type": "code",
   "execution_count": 15,
   "id": "a1673c6e",
   "metadata": {
    "ExecuteTime": {
     "end_time": "2022-10-15T12:54:15.069631Z",
     "start_time": "2022-10-15T12:54:14.474846Z"
    },
    "hidden": true
   },
   "outputs": [],
   "source": [
    "# Central Tendency - Mean, Median\n",
    "ct1 = pd.DataFrame( num_attributes.apply( np.mean ) ).T\n",
    "ct2 = pd.DataFrame( num_attributes.apply( np.median ) ).T\n",
    "\n",
    "# Dispersion - Std, min, max, range, skewness, kurtosis\n",
    "d1 = pd.DataFrame( num_attributes.apply( np.std ) ).T\n",
    "d2 = pd.DataFrame( num_attributes.apply( min ) ).T\n",
    "d3 = pd.DataFrame( num_attributes.apply( max ) ).T\n",
    "d4 = pd.DataFrame( num_attributes.apply( lambda x: x.max() - x.min() ) ).T\n",
    "d5 = pd.DataFrame( num_attributes.apply( lambda x: x.skew() ) ).T\n",
    "d6 = pd.DataFrame( num_attributes.apply( lambda x: x.kurtosis() ) ).T\n",
    "\n",
    "# Concatenate\n",
    "m = pd.concat( [d2, d3, d4, ct1, ct2, d1, d5, d6] ).T.reset_index()\n",
    "m.columns = ['attributes', 'min', 'max', 'range', 'mean', 'median', 'std', 'skew', 'kurtosis']"
   ]
  },
  {
   "cell_type": "code",
   "execution_count": 16,
   "id": "9713af29",
   "metadata": {
    "ExecuteTime": {
     "end_time": "2022-10-15T12:54:15.086369Z",
     "start_time": "2022-10-15T12:54:15.071222Z"
    },
    "hidden": true,
    "scrolled": true
   },
   "outputs": [
    {
     "data": {
      "text/html": [
       "<div>\n",
       "<style scoped>\n",
       "    .dataframe tbody tr th:only-of-type {\n",
       "        vertical-align: middle;\n",
       "    }\n",
       "\n",
       "    .dataframe tbody tr th {\n",
       "        vertical-align: top;\n",
       "    }\n",
       "\n",
       "    .dataframe thead th {\n",
       "        text-align: right;\n",
       "    }\n",
       "</style>\n",
       "<table border=\"1\" class=\"dataframe\">\n",
       "  <thead>\n",
       "    <tr style=\"text-align: right;\">\n",
       "      <th></th>\n",
       "      <th>attributes</th>\n",
       "      <th>min</th>\n",
       "      <th>max</th>\n",
       "      <th>range</th>\n",
       "      <th>mean</th>\n",
       "      <th>median</th>\n",
       "      <th>std</th>\n",
       "      <th>skew</th>\n",
       "      <th>kurtosis</th>\n",
       "    </tr>\n",
       "  </thead>\n",
       "  <tbody>\n",
       "    <tr>\n",
       "      <th>0</th>\n",
       "      <td>id</td>\n",
       "      <td>1.0</td>\n",
       "      <td>381109.0</td>\n",
       "      <td>381108.0</td>\n",
       "      <td>190555.000000</td>\n",
       "      <td>190555.0</td>\n",
       "      <td>110016.691870</td>\n",
       "      <td>-8.071174e-18</td>\n",
       "      <td>-1.200000</td>\n",
       "    </tr>\n",
       "    <tr>\n",
       "      <th>1</th>\n",
       "      <td>previously_insured</td>\n",
       "      <td>0.0</td>\n",
       "      <td>1.0</td>\n",
       "      <td>1.0</td>\n",
       "      <td>0.458210</td>\n",
       "      <td>0.0</td>\n",
       "      <td>0.498251</td>\n",
       "      <td>1.677471e-01</td>\n",
       "      <td>-1.971871</td>\n",
       "    </tr>\n",
       "    <tr>\n",
       "      <th>2</th>\n",
       "      <td>annual_premium</td>\n",
       "      <td>2630.0</td>\n",
       "      <td>540165.0</td>\n",
       "      <td>537535.0</td>\n",
       "      <td>30564.389581</td>\n",
       "      <td>31669.0</td>\n",
       "      <td>17213.132474</td>\n",
       "      <td>1.766087e+00</td>\n",
       "      <td>34.004569</td>\n",
       "    </tr>\n",
       "    <tr>\n",
       "      <th>3</th>\n",
       "      <td>vintage</td>\n",
       "      <td>10.0</td>\n",
       "      <td>299.0</td>\n",
       "      <td>289.0</td>\n",
       "      <td>154.347397</td>\n",
       "      <td>154.0</td>\n",
       "      <td>83.671194</td>\n",
       "      <td>3.029517e-03</td>\n",
       "      <td>-1.200688</td>\n",
       "    </tr>\n",
       "    <tr>\n",
       "      <th>4</th>\n",
       "      <td>response</td>\n",
       "      <td>0.0</td>\n",
       "      <td>1.0</td>\n",
       "      <td>1.0</td>\n",
       "      <td>0.122563</td>\n",
       "      <td>0.0</td>\n",
       "      <td>0.327935</td>\n",
       "      <td>2.301906e+00</td>\n",
       "      <td>3.298788</td>\n",
       "    </tr>\n",
       "    <tr>\n",
       "      <th>5</th>\n",
       "      <td>age</td>\n",
       "      <td>20.0</td>\n",
       "      <td>85.0</td>\n",
       "      <td>65.0</td>\n",
       "      <td>38.822584</td>\n",
       "      <td>36.0</td>\n",
       "      <td>15.511591</td>\n",
       "      <td>6.725390e-01</td>\n",
       "      <td>-0.565655</td>\n",
       "    </tr>\n",
       "    <tr>\n",
       "      <th>6</th>\n",
       "      <td>region_code</td>\n",
       "      <td>0.0</td>\n",
       "      <td>52.0</td>\n",
       "      <td>52.0</td>\n",
       "      <td>26.388807</td>\n",
       "      <td>28.0</td>\n",
       "      <td>13.229871</td>\n",
       "      <td>-1.152664e-01</td>\n",
       "      <td>-0.867857</td>\n",
       "    </tr>\n",
       "    <tr>\n",
       "      <th>7</th>\n",
       "      <td>policy_sales_channel</td>\n",
       "      <td>1.0</td>\n",
       "      <td>163.0</td>\n",
       "      <td>162.0</td>\n",
       "      <td>112.034295</td>\n",
       "      <td>133.0</td>\n",
       "      <td>54.203924</td>\n",
       "      <td>-9.000081e-01</td>\n",
       "      <td>-0.970810</td>\n",
       "    </tr>\n",
       "    <tr>\n",
       "      <th>8</th>\n",
       "      <td>driving_license</td>\n",
       "      <td>0.0</td>\n",
       "      <td>1.0</td>\n",
       "      <td>1.0</td>\n",
       "      <td>0.997869</td>\n",
       "      <td>1.0</td>\n",
       "      <td>0.046109</td>\n",
       "      <td>-2.159518e+01</td>\n",
       "      <td>464.354302</td>\n",
       "    </tr>\n",
       "  </tbody>\n",
       "</table>\n",
       "</div>"
      ],
      "text/plain": [
       "             attributes     min       max     range           mean    median            std          skew    kurtosis\n",
       "0                    id     1.0  381109.0  381108.0  190555.000000  190555.0  110016.691870 -8.071174e-18   -1.200000\n",
       "1    previously_insured     0.0       1.0       1.0       0.458210       0.0       0.498251  1.677471e-01   -1.971871\n",
       "2        annual_premium  2630.0  540165.0  537535.0   30564.389581   31669.0   17213.132474  1.766087e+00   34.004569\n",
       "3               vintage    10.0     299.0     289.0     154.347397     154.0      83.671194  3.029517e-03   -1.200688\n",
       "4              response     0.0       1.0       1.0       0.122563       0.0       0.327935  2.301906e+00    3.298788\n",
       "5                   age    20.0      85.0      65.0      38.822584      36.0      15.511591  6.725390e-01   -0.565655\n",
       "6           region_code     0.0      52.0      52.0      26.388807      28.0      13.229871 -1.152664e-01   -0.867857\n",
       "7  policy_sales_channel     1.0     163.0     162.0     112.034295     133.0      54.203924 -9.000081e-01   -0.970810\n",
       "8       driving_license     0.0       1.0       1.0       0.997869       1.0       0.046109 -2.159518e+01  464.354302"
      ]
     },
     "execution_count": 16,
     "metadata": {},
     "output_type": "execute_result"
    }
   ],
   "source": [
    "m"
   ]
  },
  {
   "cell_type": "markdown",
   "id": "69b80971",
   "metadata": {
    "hidden": true
   },
   "source": [
    "### 1.8.2 Categorical Attributes"
   ]
  },
  {
   "cell_type": "code",
   "execution_count": 17,
   "id": "5b59343a",
   "metadata": {
    "ExecuteTime": {
     "end_time": "2022-10-15T12:54:15.133942Z",
     "start_time": "2022-10-15T12:54:15.088406Z"
    },
    "hidden": true
   },
   "outputs": [
    {
     "data": {
      "text/plain": [
       "gender            2\n",
       "vehicle_age       3\n",
       "vehicle_damage    2\n",
       "dtype: int64"
      ]
     },
     "execution_count": 17,
     "metadata": {},
     "output_type": "execute_result"
    }
   ],
   "source": [
    "cat_attributes.apply( lambda x: x.unique().shape[0] )"
   ]
  },
  {
   "cell_type": "code",
   "execution_count": 18,
   "id": "e6fcfb60",
   "metadata": {
    "ExecuteTime": {
     "end_time": "2022-10-15T12:54:15.655185Z",
     "start_time": "2022-10-15T12:54:15.136117Z"
    },
    "hidden": true
   },
   "outputs": [
    {
     "data": {
      "text/plain": [
       "<AxesSubplot:xlabel='vehicle_age', ylabel='id'>"
      ]
     },
     "execution_count": 18,
     "metadata": {},
     "output_type": "execute_result"
    },
    {
     "data": {
      "image/png": "[encoded data removed]",
      "text/plain": [
       "<Figure size 1152x432 with 3 Axes>"
      ]
     },
     "metadata": {},
     "output_type": "display_data"
    }
   ],
   "source": [
    "aux = df1.copy()\n",
    "\n",
    "plt.figure( figsize=(16, 6) )\n",
    "\n",
    "# Graph 1 - Gender\n",
    "plt.subplot( 131 )\n",
    "aux1 = aux[['gender', 'response', 'id']].groupby( ['gender', 'response'] ).count().reset_index()\n",
    "sns.barplot( x='gender', y='id', hue='response', data=aux1 )\n",
    "\n",
    "\n",
    "# Graph 2 - Vehicle Damage\n",
    "plt.subplot( 132 )\n",
    "aux1 = aux[['vehicle_damage', 'response', 'id']].groupby( ['vehicle_damage', 'response'] ).count().reset_index()\n",
    "sns.barplot( x='vehicle_damage', y='id', hue='response', data=aux1 )\n",
    "\n",
    "\n",
    "# Graph 3 - Vehicle Age\n",
    "plt.subplot( 133 )\n",
    "aux1 = aux[['vehicle_age', 'response', 'id']].groupby( ['vehicle_age', 'response'] ).count().reset_index()\n",
    "sns.barplot( x='vehicle_age', y='id', hue='response', data=aux1 )"
   ]
  },
  {
   "cell_type": "markdown",
   "id": "442b754b",
   "metadata": {
    "heading_collapsed": true
   },
   "source": [
    "# 2.0 STEP 02 - FEATURE ENGINEERING"
   ]
  },
  {
   "cell_type": "code",
   "execution_count": 19,
   "id": "0966c697",
   "metadata": {
    "ExecuteTime": {
     "end_time": "2022-10-15T12:54:15.671892Z",
     "start_time": "2022-10-15T12:54:15.657388Z"
    },
    "hidden": true
   },
   "outputs": [],
   "source": [
    "df2 = df1.copy()"
   ]
  },
  {
   "cell_type": "code",
   "execution_count": 20,
   "id": "c3d4942b",
   "metadata": {
    "ExecuteTime": {
     "end_time": "2022-10-15T12:54:15.844677Z",
     "start_time": "2022-10-15T12:54:15.673900Z"
    },
    "hidden": true
   },
   "outputs": [],
   "source": [
    "# vehicle_damage\n",
    "df2['vehicle_damage'] = df2['vehicle_damage'].apply( lambda x: 1 if x == 'Yes' else 0 )\n",
    "\n",
    "# vehicle_age\n",
    "df2['vehicle_age'] = df2['vehicle_age'].apply( lambda x: 'below_1_year' if x == '< 1 Year' else \n",
    "                                                         'between_1_2_year' if x == '1-2 Year' else \n",
    "                                                         'over_2_years' )"
   ]
  },
  {
   "cell_type": "markdown",
   "id": "183debd8",
   "metadata": {
    "heading_collapsed": true
   },
   "source": [
    "# 3.0 STEP 03 - DATA FILTERING"
   ]
  },
  {
   "cell_type": "code",
   "execution_count": 22,
   "id": "a3e372b2",
   "metadata": {
    "ExecuteTime": {
     "end_time": "2022-10-15T12:54:15.895034Z",
     "start_time": "2022-10-15T12:54:15.858592Z"
    },
    "hidden": true
   },
   "outputs": [],
   "source": [
    "df3 = df2.copy()"
   ]
  },
  {
   "cell_type": "code",
   "execution_count": null,
   "id": "286e5e3f",
   "metadata": {
    "hidden": true
   },
   "outputs": [],
   "source": []
  },
  {
   "cell_type": "code",
   "execution_count": null,
   "id": "6314d919",
   "metadata": {
    "hidden": true
   },
   "outputs": [],
   "source": []
  },
  {
   "cell_type": "markdown",
   "id": "933dde65",
   "metadata": {},
   "source": [
    "# 4.0 STEP 04 - EXPLORATORY DATA ANALYSIS"
   ]
  },
  {
   "cell_type": "code",
   "execution_count": 23,
   "id": "046def1f",
   "metadata": {
    "ExecuteTime": {
     "end_time": "2022-10-15T12:54:15.904266Z",
     "start_time": "2022-10-15T12:54:15.896840Z"
    }
   },
   "outputs": [],
   "source": [
    "df4 = df3.copy()"
   ]
  },
  {
   "cell_type": "markdown",
   "id": "16e1871a",
   "metadata": {},
   "source": [
    "## 4.1 Univariate Analysis"
   ]
  },
  {
   "cell_type": "code",
   "execution_count": 24,
   "id": "81a803ff",
   "metadata": {
    "ExecuteTime": {
     "end_time": "2022-10-15T12:54:15.915688Z",
     "start_time": "2022-10-15T12:54:15.906333Z"
    }
   },
   "outputs": [
    {
     "data": {
      "text/plain": [
       "Index(['id', 'previously_insured', 'annual_premium', 'vintage', 'response',\n",
       "       'gender', 'age', 'region_code', 'policy_sales_channel',\n",
       "       'driving_license', 'vehicle_age', 'vehicle_damage'],\n",
       "      dtype='object')"
      ]
     },
     "execution_count": 24,
     "metadata": {},
     "output_type": "execute_result"
    }
   ],
   "source": [
    "df4.columns"
   ]
  },
  {
   "cell_type": "markdown",
   "id": "21a5e306",
   "metadata": {
    "ExecuteTime": {
     "end_time": "2022-09-17T21:08:29.991064Z",
     "start_time": "2022-09-17T21:08:29.988525Z"
    },
    "heading_collapsed": true
   },
   "source": [
    "### 4.1.1 Age"
   ]
  },
  {
   "cell_type": "code",
   "execution_count": 25,
   "id": "07b86588",
   "metadata": {
    "ExecuteTime": {
     "end_time": "2022-10-15T12:54:16.075878Z",
     "start_time": "2022-10-15T12:54:15.918153Z"
    },
    "hidden": true
   },
   "outputs": [
    {
     "data": {
      "image/png": "[encoded data removed]",
      "text/plain": [
       "<Figure size 504x504 with 1 Axes>"
      ]
     },
     "metadata": {},
     "output_type": "display_data"
    }
   ],
   "source": [
    "# age\n",
    "sns.set(rc={'figure.figsize':(7, 7)})\n",
    "sns.boxplot( x='response', y='age', data=df4 );"
   ]
  },
  {
   "cell_type": "code",
   "execution_count": 26,
   "id": "bb47f27e",
   "metadata": {
    "ExecuteTime": {
     "end_time": "2022-10-15T12:54:16.861322Z",
     "start_time": "2022-10-15T12:54:16.078302Z"
    },
    "hidden": true
   },
   "outputs": [
    {
     "data": {
      "image/png": "[encoded data removed]",
      "text/plain": [
       "<Figure size 1080x504 with 2 Axes>"
      ]
     },
     "metadata": {},
     "output_type": "display_data"
    }
   ],
   "source": [
    "# Plot size\n",
    "sns.set(rc={'figure.figsize':(15, 7)})\n",
    "\n",
    "# Graph 1 - 'No'\n",
    "plt.subplot( 121 )\n",
    "aux1 = df4.loc[df4['response'] == 0, 'age']\n",
    "sns.histplot( aux1 );\n",
    "\n",
    "# Graph 2 - 'Yes'\n",
    "plt.subplot( 122 )\n",
    "aux1 = df4.loc[df4['response'] == 1, 'age']\n",
    "sns.histplot( aux1 );"
   ]
  },
  {
   "cell_type": "markdown",
   "id": "7ad3d42d",
   "metadata": {
    "ExecuteTime": {
     "end_time": "2022-09-17T21:08:29.991064Z",
     "start_time": "2022-09-17T21:08:29.988525Z"
    },
    "heading_collapsed": true
   },
   "source": [
    "### 4.1.2 Annual Premium"
   ]
  },
  {
   "cell_type": "code",
   "execution_count": 27,
   "id": "a134d7fe",
   "metadata": {
    "ExecuteTime": {
     "end_time": "2022-10-15T12:54:18.095937Z",
     "start_time": "2022-10-15T12:54:16.863200Z"
    },
    "hidden": true,
    "scrolled": false
   },
   "outputs": [
    {
     "data": {
      "image/png": "[encoded data removed]",
      "text/plain": [
       "<Figure size 504x504 with 1 Axes>"
      ]
     },
     "metadata": {},
     "output_type": "display_data"
    }
   ],
   "source": [
    "# annual_premium\n",
    "sns.set(rc={'figure.figsize':(7, 7)})\n",
    "aux1 = df4[df4['annual_premium'] < 80000]\n",
    "sns.boxplot( x='response', y='annual_premium', data=aux1 );"
   ]
  },
  {
   "cell_type": "code",
   "execution_count": 28,
   "id": "392dace0",
   "metadata": {
    "ExecuteTime": {
     "end_time": "2022-10-15T12:54:18.981123Z",
     "start_time": "2022-10-15T12:54:18.099195Z"
    },
    "hidden": true
   },
   "outputs": [
    {
     "data": {
      "image/png": "[encoded data removed]",
      "text/plain": [
       "<Figure size 1080x504 with 2 Axes>"
      ]
     },
     "metadata": {},
     "output_type": "display_data"
    }
   ],
   "source": [
    "# Plot size\n",
    "sns.set(rc={'figure.figsize':(15, 7)})\n",
    "\n",
    "# Graph 1 - 'No'\n",
    "plt.subplot( 121 )\n",
    "aux2 = aux1.loc[aux1['response'] == 0, 'annual_premium']\n",
    "sns.histplot( aux2 );\n",
    "\n",
    "# Graph 2 - 'Yes'\n",
    "plt.subplot( 122 )\n",
    "aux3 = aux1.loc[aux1['response'] == 1, 'annual_premium']\n",
    "sns.histplot( aux3 );"
   ]
  },
  {
   "cell_type": "markdown",
   "id": "4968d575",
   "metadata": {
    "ExecuteTime": {
     "end_time": "2022-09-17T21:08:29.991064Z",
     "start_time": "2022-09-17T21:08:29.988525Z"
    },
    "heading_collapsed": true
   },
   "source": [
    "### 4.1.3 Driving License"
   ]
  },
  {
   "cell_type": "code",
   "execution_count": 29,
   "id": "84ece46e",
   "metadata": {
    "ExecuteTime": {
     "end_time": "2022-10-15T12:54:18.996364Z",
     "start_time": "2022-10-15T12:54:18.983192Z"
    },
    "hidden": true
   },
   "outputs": [
    {
     "data": {
      "text/html": [
       "<div>\n",
       "<style scoped>\n",
       "    .dataframe tbody tr th:only-of-type {\n",
       "        vertical-align: middle;\n",
       "    }\n",
       "\n",
       "    .dataframe tbody tr th {\n",
       "        vertical-align: top;\n",
       "    }\n",
       "\n",
       "    .dataframe thead th {\n",
       "        text-align: right;\n",
       "    }\n",
       "</style>\n",
       "<table border=\"1\" class=\"dataframe\">\n",
       "  <thead>\n",
       "    <tr style=\"text-align: right;\">\n",
       "      <th></th>\n",
       "      <th>id</th>\n",
       "      <th>previously_insured</th>\n",
       "      <th>annual_premium</th>\n",
       "      <th>vintage</th>\n",
       "      <th>response</th>\n",
       "      <th>gender</th>\n",
       "      <th>age</th>\n",
       "      <th>region_code</th>\n",
       "      <th>policy_sales_channel</th>\n",
       "      <th>driving_license</th>\n",
       "      <th>vehicle_age</th>\n",
       "      <th>vehicle_damage</th>\n",
       "      <th>driving_license_perc</th>\n",
       "    </tr>\n",
       "  </thead>\n",
       "  <tbody>\n",
       "    <tr>\n",
       "      <th>0</th>\n",
       "      <td>7</td>\n",
       "      <td>0</td>\n",
       "      <td>23367.0</td>\n",
       "      <td>249</td>\n",
       "      <td>0</td>\n",
       "      <td>Male</td>\n",
       "      <td>23</td>\n",
       "      <td>11</td>\n",
       "      <td>152.0</td>\n",
       "      <td>1</td>\n",
       "      <td>&lt; 1 Year</td>\n",
       "      <td>Yes</td>\n",
       "      <td>0.000003</td>\n",
       "    </tr>\n",
       "    <tr>\n",
       "      <th>1</th>\n",
       "      <td>13</td>\n",
       "      <td>1</td>\n",
       "      <td>31409.0</td>\n",
       "      <td>221</td>\n",
       "      <td>0</td>\n",
       "      <td>Female</td>\n",
       "      <td>41</td>\n",
       "      <td>15</td>\n",
       "      <td>14.0</td>\n",
       "      <td>1</td>\n",
       "      <td>1-2 Year</td>\n",
       "      <td>No</td>\n",
       "      <td>0.000003</td>\n",
       "    </tr>\n",
       "    <tr>\n",
       "      <th>2</th>\n",
       "      <td>18</td>\n",
       "      <td>1</td>\n",
       "      <td>46622.0</td>\n",
       "      <td>299</td>\n",
       "      <td>0</td>\n",
       "      <td>Female</td>\n",
       "      <td>25</td>\n",
       "      <td>35</td>\n",
       "      <td>152.0</td>\n",
       "      <td>1</td>\n",
       "      <td>&lt; 1 Year</td>\n",
       "      <td>No</td>\n",
       "      <td>0.000003</td>\n",
       "    </tr>\n",
       "    <tr>\n",
       "      <th>3</th>\n",
       "      <td>31</td>\n",
       "      <td>0</td>\n",
       "      <td>2630.0</td>\n",
       "      <td>136</td>\n",
       "      <td>0</td>\n",
       "      <td>Female</td>\n",
       "      <td>26</td>\n",
       "      <td>8</td>\n",
       "      <td>160.0</td>\n",
       "      <td>1</td>\n",
       "      <td>&lt; 1 Year</td>\n",
       "      <td>No</td>\n",
       "      <td>0.000003</td>\n",
       "    </tr>\n",
       "    <tr>\n",
       "      <th>4</th>\n",
       "      <td>39</td>\n",
       "      <td>0</td>\n",
       "      <td>42297.0</td>\n",
       "      <td>264</td>\n",
       "      <td>0</td>\n",
       "      <td>Male</td>\n",
       "      <td>45</td>\n",
       "      <td>8</td>\n",
       "      <td>124.0</td>\n",
       "      <td>1</td>\n",
       "      <td>1-2 Year</td>\n",
       "      <td>Yes</td>\n",
       "      <td>0.000003</td>\n",
       "    </tr>\n",
       "  </tbody>\n",
       "</table>\n",
       "</div>"
      ],
      "text/plain": [
       "   id  previously_insured  annual_premium  vintage  response  gender  age  region_code  policy_sales_channel  driving_license vehicle_age vehicle_damage  driving_license_perc\n",
       "0   7                   0         23367.0      249         0    Male   23           11                 152.0                1    < 1 Year            Yes              0.000003\n",
       "1  13                   1         31409.0      221         0  Female   41           15                  14.0                1    1-2 Year             No              0.000003\n",
       "2  18                   1         46622.0      299         0  Female   25           35                 152.0                1    < 1 Year             No              0.000003\n",
       "3  31                   0          2630.0      136         0  Female   26            8                 160.0                1    < 1 Year             No              0.000003\n",
       "4  39                   0         42297.0      264         0    Male   45            8                 124.0                1    1-2 Year            Yes              0.000003"
      ]
     },
     "execution_count": 29,
     "metadata": {},
     "output_type": "execute_result"
    }
   ],
   "source": [
    "# driving_license\n",
    "aux['driving_license_perc'] = aux['driving_license'] / aux['driving_license'].sum()\n",
    "aux.head()"
   ]
  },
  {
   "cell_type": "code",
   "execution_count": 30,
   "id": "4413ec5b",
   "metadata": {
    "ExecuteTime": {
     "end_time": "2022-10-15T12:54:19.140659Z",
     "start_time": "2022-10-15T12:54:18.998509Z"
    },
    "hidden": true
   },
   "outputs": [
    {
     "data": {
      "text/plain": [
       "<AxesSubplot:xlabel='response', ylabel='driving_license'>"
      ]
     },
     "execution_count": 30,
     "metadata": {},
     "output_type": "execute_result"
    },
    {
     "data": {
      "image/png": "[encoded data removed]",
      "text/plain": [
       "<Figure size 1080x504 with 1 Axes>"
      ]
     },
     "metadata": {},
     "output_type": "display_data"
    }
   ],
   "source": [
    "aux = df4[['driving_license', 'response']].groupby( 'response' ).sum().reset_index()\n",
    "sns.barplot( x='response', y='driving_license', data=aux )"
   ]
  },
  {
   "cell_type": "markdown",
   "id": "96111cb8",
   "metadata": {
    "ExecuteTime": {
     "end_time": "2022-09-17T21:08:29.991064Z",
     "start_time": "2022-09-17T21:08:29.988525Z"
    },
    "heading_collapsed": true
   },
   "source": [
    "### 4.1.4 Region Code"
   ]
  },
  {
   "cell_type": "code",
   "execution_count": 31,
   "id": "c68af8a8",
   "metadata": {
    "ExecuteTime": {
     "end_time": "2022-10-15T12:54:19.398648Z",
     "start_time": "2022-10-15T12:54:19.142820Z"
    },
    "hidden": true
   },
   "outputs": [
    {
     "data": {
      "image/png": "[encoded data removed]",
      "text/plain": [
       "<Figure size 1080x504 with 1 Axes>"
      ]
     },
     "metadata": {},
     "output_type": "display_data"
    }
   ],
   "source": [
    "# region_code\n",
    "aux0 = df4[['id', 'region_code', 'response']].groupby( ['region_code', 'response'] ).count().reset_index()\n",
    "\n",
    "sns.scatterplot( x='region_code', y='id', hue='response', data=aux0 );"
   ]
  },
  {
   "cell_type": "code",
   "execution_count": null,
   "id": "ed1ca508",
   "metadata": {
    "hidden": true
   },
   "outputs": [],
   "source": [
    " "
   ]
  },
  {
   "cell_type": "code",
   "execution_count": null,
   "id": "e7320e56",
   "metadata": {
    "hidden": true
   },
   "outputs": [],
   "source": []
  },
  {
   "cell_type": "code",
   "execution_count": null,
   "id": "8b561a85",
   "metadata": {
    "hidden": true
   },
   "outputs": [],
   "source": []
  },
  {
   "cell_type": "code",
   "execution_count": null,
   "id": "2bdd1986",
   "metadata": {
    "hidden": true
   },
   "outputs": [],
   "source": []
  },
  {
   "cell_type": "markdown",
   "id": "6006843b",
   "metadata": {
    "ExecuteTime": {
     "end_time": "2022-09-17T21:08:29.991064Z",
     "start_time": "2022-09-17T21:08:29.988525Z"
    },
    "heading_collapsed": true
   },
   "source": [
    "### 4.1.5 Previously Insured"
   ]
  },
  {
   "cell_type": "code",
   "execution_count": 32,
   "id": "00217bfb",
   "metadata": {
    "ExecuteTime": {
     "end_time": "2022-10-15T12:54:19.434271Z",
     "start_time": "2022-10-15T12:54:19.400563Z"
    },
    "hidden": true
   },
   "outputs": [
    {
     "data": {
      "text/html": [
       "<div>\n",
       "<style scoped>\n",
       "    .dataframe tbody tr th:only-of-type {\n",
       "        vertical-align: middle;\n",
       "    }\n",
       "\n",
       "    .dataframe tbody tr th {\n",
       "        vertical-align: top;\n",
       "    }\n",
       "\n",
       "    .dataframe thead th {\n",
       "        text-align: right;\n",
       "    }\n",
       "</style>\n",
       "<table border=\"1\" class=\"dataframe\">\n",
       "  <thead>\n",
       "    <tr style=\"text-align: right;\">\n",
       "      <th>response</th>\n",
       "      <th>0</th>\n",
       "      <th>1</th>\n",
       "    </tr>\n",
       "    <tr>\n",
       "      <th>previously_insured</th>\n",
       "      <th></th>\n",
       "      <th></th>\n",
       "    </tr>\n",
       "  </thead>\n",
       "  <tbody>\n",
       "    <tr>\n",
       "      <th>0</th>\n",
       "      <td>0.774546</td>\n",
       "      <td>0.225454</td>\n",
       "    </tr>\n",
       "    <tr>\n",
       "      <th>1</th>\n",
       "      <td>0.999095</td>\n",
       "      <td>0.000905</td>\n",
       "    </tr>\n",
       "  </tbody>\n",
       "</table>\n",
       "</div>"
      ],
      "text/plain": [
       "response                   0         1\n",
       "previously_insured                    \n",
       "0                   0.774546  0.225454\n",
       "1                   0.999095  0.000905"
      ]
     },
     "execution_count": 32,
     "metadata": {},
     "output_type": "execute_result"
    }
   ],
   "source": [
    "# previously insured\n",
    "pd.crosstab( df4['previously_insured'], df4['response'] ).apply( lambda x: x / x.sum(), axis=1 )"
   ]
  },
  {
   "cell_type": "markdown",
   "id": "4691bb1f",
   "metadata": {
    "ExecuteTime": {
     "end_time": "2022-09-17T21:08:29.991064Z",
     "start_time": "2022-09-17T21:08:29.988525Z"
    },
    "heading_collapsed": true
   },
   "source": [
    "### 4.1.6 Vehicle Age"
   ]
  },
  {
   "cell_type": "code",
   "execution_count": 33,
   "id": "9a428c94",
   "metadata": {
    "ExecuteTime": {
     "end_time": "2022-10-15T12:54:19.475463Z",
     "start_time": "2022-10-15T12:54:19.436285Z"
    },
    "hidden": true
   },
   "outputs": [
    {
     "data": {
      "text/html": [
       "<div>\n",
       "<style scoped>\n",
       "    .dataframe tbody tr th:only-of-type {\n",
       "        vertical-align: middle;\n",
       "    }\n",
       "\n",
       "    .dataframe tbody tr th {\n",
       "        vertical-align: top;\n",
       "    }\n",
       "\n",
       "    .dataframe thead th {\n",
       "        text-align: right;\n",
       "    }\n",
       "</style>\n",
       "<table border=\"1\" class=\"dataframe\">\n",
       "  <thead>\n",
       "    <tr style=\"text-align: right;\">\n",
       "      <th></th>\n",
       "      <th>vehicle_age</th>\n",
       "      <th>response</th>\n",
       "      <th>0</th>\n",
       "    </tr>\n",
       "  </thead>\n",
       "  <tbody>\n",
       "    <tr>\n",
       "      <th>0</th>\n",
       "      <td>between_1_2_year</td>\n",
       "      <td>0</td>\n",
       "      <td>0.434285</td>\n",
       "    </tr>\n",
       "    <tr>\n",
       "      <th>1</th>\n",
       "      <td>below_1_year</td>\n",
       "      <td>0</td>\n",
       "      <td>0.413488</td>\n",
       "    </tr>\n",
       "    <tr>\n",
       "      <th>2</th>\n",
       "      <td>between_1_2_year</td>\n",
       "      <td>1</td>\n",
       "      <td>0.091328</td>\n",
       "    </tr>\n",
       "    <tr>\n",
       "      <th>3</th>\n",
       "      <td>over_2_years</td>\n",
       "      <td>0</td>\n",
       "      <td>0.029663</td>\n",
       "    </tr>\n",
       "    <tr>\n",
       "      <th>4</th>\n",
       "      <td>below_1_year</td>\n",
       "      <td>1</td>\n",
       "      <td>0.018897</td>\n",
       "    </tr>\n",
       "    <tr>\n",
       "      <th>5</th>\n",
       "      <td>over_2_years</td>\n",
       "      <td>1</td>\n",
       "      <td>0.012338</td>\n",
       "    </tr>\n",
       "  </tbody>\n",
       "</table>\n",
       "</div>"
      ],
      "text/plain": [
       "        vehicle_age  response         0\n",
       "0  between_1_2_year         0  0.434285\n",
       "1      below_1_year         0  0.413488\n",
       "2  between_1_2_year         1  0.091328\n",
       "3      over_2_years         0  0.029663\n",
       "4      below_1_year         1  0.018897\n",
       "5      over_2_years         1  0.012338"
      ]
     },
     "execution_count": 33,
     "metadata": {},
     "output_type": "execute_result"
    }
   ],
   "source": [
    "# vehicle_age\n",
    "df4[['vehicle_age', 'response']].value_counts( normalize=True ).reset_index()"
   ]
  },
  {
   "cell_type": "markdown",
   "id": "4b32e8a5",
   "metadata": {
    "ExecuteTime": {
     "end_time": "2022-09-17T21:08:29.991064Z",
     "start_time": "2022-09-17T21:08:29.988525Z"
    },
    "heading_collapsed": true
   },
   "source": [
    "### 4.1.7 Policy Sales Channel"
   ]
  },
  {
   "cell_type": "code",
   "execution_count": 34,
   "id": "3d2c3029",
   "metadata": {
    "ExecuteTime": {
     "end_time": "2022-10-15T12:54:22.473507Z",
     "start_time": "2022-10-15T12:54:19.477310Z"
    },
    "hidden": true,
    "scrolled": false
   },
   "outputs": [
    {
     "data": {
      "image/png": "[encoded data removed]",
      "text/plain": [
       "<Figure size 1080x504 with 2 Axes>"
      ]
     },
     "metadata": {},
     "output_type": "display_data"
    }
   ],
   "source": [
    "plt.subplot( 212 )\n",
    "aux1 = df4[df4['policy_sales_channel'] >= 80.0].groupby( 'policy_sales_channel' )['age'].count().reset_index()\n",
    "sns.barplot( x='policy_sales_channel', y='age', data=aux1 )\n",
    "plt.xticks(rotation=90);\n",
    "\n",
    "plt.subplot( 211 )\n",
    "aux2 = df4[df4['policy_sales_channel'] < 80.0].groupby( 'policy_sales_channel' )['age'].count().reset_index()\n",
    "sns.barplot( x='policy_sales_channel', y='age', data=aux2 )\n",
    "plt.xticks(rotation=90);"
   ]
  },
  {
   "cell_type": "markdown",
   "id": "fa2efe43",
   "metadata": {
    "ExecuteTime": {
     "end_time": "2022-09-17T21:08:29.991064Z",
     "start_time": "2022-09-17T21:08:29.988525Z"
    },
    "heading_collapsed": true
   },
   "source": [
    "### 4.1.8 Vintage"
   ]
  },
  {
   "cell_type": "code",
   "execution_count": 38,
   "id": "1ab61fe6",
   "metadata": {
    "ExecuteTime": {
     "end_time": "2022-10-15T12:59:54.138448Z",
     "start_time": "2022-10-15T12:59:53.928459Z"
    },
    "hidden": true,
    "hide_input": false
   },
   "outputs": [
    {
     "data": {
      "image/png": "[encoded data removed]",
      "text/plain": [
       "<Figure size 1080x504 with 1 Axes>"
      ]
     },
     "metadata": {},
     "output_type": "display_data"
    }
   ],
   "source": [
    "# vintage\n",
    "sns.boxplot( x='response', y='vintage', data=df4 );"
   ]
  },
  {
   "cell_type": "code",
   "execution_count": 44,
   "id": "f43a9d76",
   "metadata": {
    "ExecuteTime": {
     "end_time": "2022-10-15T13:09:31.538504Z",
     "start_time": "2022-10-15T13:09:30.846058Z"
    },
    "hidden": true
   },
   "outputs": [
    {
     "data": {
      "image/png": "[encoded data removed]",
      "text/plain": [
       "<Figure size 1080x504 with 2 Axes>"
      ]
     },
     "metadata": {},
     "output_type": "display_data"
    }
   ],
   "source": [
    "# Graph 1 - Dist of Response = No\n",
    "plt.subplot( 121 )\n",
    "aux1 = df4.loc[df4['response'] == 0, 'vintage']\n",
    "sns.histplot( aux1 );\n",
    "\n",
    "# Graph 1 - Dist of Response = Yes\n",
    "plt.subplot( 122 )\n",
    "aux2 = df4.loc[df4['response'] == 1, 'vintage']\n",
    "sns.histplot( aux2 );"
   ]
  },
  {
   "cell_type": "markdown",
   "id": "c0999d73",
   "metadata": {},
   "source": [
    "# 5.0 STEP 05 - FEATURE SELECTION"
   ]
  },
  {
   "cell_type": "markdown",
   "id": "7bc56ba5",
   "metadata": {},
   "source": [
    "# 6.0 STEP 06 - DATA PREPARATION"
   ]
  },
  {
   "cell_type": "markdown",
   "id": "eda73738",
   "metadata": {},
   "source": [
    "# 7.0 STEP 07 - MACHINE LEARNING MODELLING"
   ]
  },
  {
   "cell_type": "code",
   "execution_count": null,
   "id": "f57968e7",
   "metadata": {},
   "outputs": [],
   "source": []
  },
  {
   "cell_type": "code",
   "execution_count": null,
   "id": "56c33de5",
   "metadata": {},
   "outputs": [],
   "source": []
  }
 ],
 "metadata": {
  "kernelspec": {
   "display_name": "pa004_cross_sell",
   "language": "python",
   "name": "pa004_cross_sell"
  },
  "language_info": {
   "codemirror_mode": {
    "name": "ipython",
    "version": 3
   },
   "file_extension": ".py",
   "mimetype": "text/x-python",
   "name": "python",
   "nbconvert_exporter": "python",
   "pygments_lexer": "ipython3",
   "version": "3.8.10"
  }
 },
 "nbformat": 4,
 "nbformat_minor": 5
}
